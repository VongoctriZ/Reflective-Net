{
 "cells": [
  {
   "cell_type": "markdown",
   "id": "33d9ed5d",
   "metadata": {
    "id": "ABgjUR_DjfXN",
    "papermill": {
     "duration": 0.008074,
     "end_time": "2025-07-14T21:17:39.041941",
     "exception": false,
     "start_time": "2025-07-14T21:17:39.033867",
     "status": "completed"
    },
    "tags": []
   },
   "source": [
    "### Config\n"
   ]
  },
  {
   "cell_type": "code",
   "execution_count": 1,
   "id": "a1398521",
   "metadata": {
    "execution": {
     "iopub.execute_input": "2025-07-14T21:17:39.057131Z",
     "iopub.status.busy": "2025-07-14T21:17:39.056887Z",
     "iopub.status.idle": "2025-07-14T21:17:43.414111Z",
     "shell.execute_reply": "2025-07-14T21:17:43.413545Z"
    },
    "executionInfo": {
     "elapsed": 10,
     "status": "ok",
     "timestamp": 1752470823943,
     "user": {
      "displayName": "Trí Võ",
      "userId": "13642267517387376756"
     },
     "user_tz": -420
    },
    "id": "XPyDfbxBjYKM",
    "papermill": {
     "duration": 4.366366,
     "end_time": "2025-07-14T21:17:43.415487",
     "exception": false,
     "start_time": "2025-07-14T21:17:39.049121",
     "status": "completed"
    },
    "tags": []
   },
   "outputs": [],
   "source": [
    "# config.py (refactored using @dataclass)\n",
    "import torch\n",
    "from dataclasses import dataclass, field\n",
    "from typing import List, Optional\n",
    "\n",
    "@dataclass\n",
    "class DataConfig:\n",
    "    name: str = 'Cifar10'\n",
    "    num_classes: int = 10\n",
    "    img_channels: int = 3\n",
    "    norm_mean: List[float] = field(default_factory=lambda: [0.4914, 0.4822, 0.4465])\n",
    "    norm_std: List[float] = field(default_factory=lambda: [0.2023, 0.1994, 0.2010])\n",
    "    ntrain: int = 50000\n",
    "    dummy: bool = False\n",
    "\n",
    "    def __post_init__(self):\n",
    "        if self.dummy:\n",
    "            self.ntrain = 500\n",
    "        if self.name.upper() == 'CIFAR100':\n",
    "            self.name = 'Cifar100'\n",
    "            self.num_classes = 100\n",
    "            self.norm_mean = [0.5060725, 0.48667726, 0.4421305]\n",
    "            self.norm_std = [0.2675421, 0.25593522, 0.27593908]\n",
    "\n",
    "@dataclass\n",
    "class VGGConfig:\n",
    "    channels: List[int] = field(default_factory=lambda: [32, 64, 128, 128, 256, 256, 512, 512])\n",
    "    is_maxpool: List[bool] = field(default_factory=lambda: [True, True, False, True, False, False, True, False])\n",
    "\n",
    "@dataclass\n",
    "class ResNetConfig:\n",
    "    channels: List[int] = field(default_factory=lambda: [64, 64, 128, 128, 256, 256, 512, 512, 512])\n",
    "    strides: List[int] = field(default_factory=lambda: [1, 1, 1, 2, 1, 2, 1, 2, 1])\n",
    "\n",
    "@dataclass\n",
    "class ExpConfig:\n",
    "    exp_depths: List[int] = field(default_factory=lambda: [1])\n",
    "    data_name: str = 'CIFAR10'\n",
    "    nin: int = 1\n",
    "    nSplit: int = 16\n",
    "    vgg_exp_layers: List[int] = field(default_factory=lambda: [1, 3, 6])\n",
    "    resnet_exp_layers: List[int] = field(default_factory=lambda: [1, 3, 5])\n",
    "\n",
    "    # for reduce block\n",
    "    expRed: List[int] = field(default_factory=lambda: [1, 2])\n",
    "    # is_pool: bool = False\n",
    "\n",
    "    exps: List[str] = field(default_factory=lambda: ['C', 'R', '1'])\n",
    "    maxRan: float = 1.0\n",
    "    miExp: bool = False\n",
    "\n",
    "    def __post_init__(self):\n",
    "        self.maxRan = 1 if self.data_name.upper() == 'CIFAR10' else 0.5\n",
    "\n",
    "@dataclass\n",
    "class TrainConfig:\n",
    "    dummy: bool = False\n",
    "    batch_size: int = 128\n",
    "    epochs: int = 120\n",
    "    lr: float = 0.1\n",
    "    momentum: float = 0.9\n",
    "    weight_decay: float = 0.0005\n",
    "    lr_scheduler: str = 'step'\n",
    "    milestones: List[int] = field(init=False)\n",
    "    gamma: float = 0.1\n",
    "    niter: int = 1000\n",
    "\n",
    "    def __post_init__(self):\n",
    "        if self.dummy:\n",
    "            self.epochs = 20\n",
    "        step = self.epochs // 3 + self.epochs // 10 + 2\n",
    "        self.milestones = list(range(step, self.epochs, step))\n",
    "\n",
    "@dataclass\n",
    "class Config:\n",
    "    dataset_name: str = 'CIFAR10'\n",
    "    exp_depths: List[int] = field(default_factory=lambda: [1])\n",
    "    dummy: bool = False\n",
    "    dataset: DataConfig = field(init=False)\n",
    "    vgg: VGGConfig = field(default_factory=VGGConfig)\n",
    "    resnet: ResNetConfig = field(default_factory=ResNetConfig)\n",
    "    train: TrainConfig = field(init=False)\n",
    "    exp: ExpConfig = field(init=False)\n",
    "    device: torch.device = field(init=False)\n",
    "\n",
    "    def __post_init__(self):\n",
    "        self.dataset = DataConfig(name=self.dataset_name, dummy=self.dummy)\n",
    "        self.train = TrainConfig(dummy=self.dummy)\n",
    "        self.exp = ExpConfig(exp_depths=self.exp_depths, data_name=self.dataset_name)\n",
    "        self.device = torch.device('cuda' if torch.cuda.is_available() else 'cpu')\n"
   ]
  },
  {
   "cell_type": "code",
   "execution_count": 2,
   "id": "aef58820",
   "metadata": {
    "execution": {
     "iopub.execute_input": "2025-07-14T21:17:43.430809Z",
     "iopub.status.busy": "2025-07-14T21:17:43.430508Z",
     "iopub.status.idle": "2025-07-14T21:17:43.642522Z",
     "shell.execute_reply": "2025-07-14T21:17:43.641892Z"
    },
    "executionInfo": {
     "elapsed": 64,
     "status": "ok",
     "timestamp": 1752470195283,
     "user": {
      "displayName": "Trí Võ",
      "userId": "13642267517387376756"
     },
     "user_tz": -420
    },
    "id": "ir3yxU4dlL71",
    "papermill": {
     "duration": 0.221132,
     "end_time": "2025-07-14T21:17:43.643855",
     "exception": false,
     "start_time": "2025-07-14T21:17:43.422723",
     "status": "completed"
    },
    "tags": []
   },
   "outputs": [],
   "source": [
    "# load_save_config.py\n",
    "\n",
    "import os\n",
    "from omegaconf import OmegaConf\n",
    "# from config import Config\n",
    "\n",
    "def load_config(yaml_path: str) -> Config:\n",
    "    \"\"\"\n",
    "    Load YAML config file và gán lại giá trị cho đối tượng Config đã khởi tạo sẵn.\n",
    "    Hỗ trợ các giá trị post_init không bị lỗi.\n",
    "    \"\"\"\n",
    "    if not os.path.isfile(yaml_path):\n",
    "        raise FileNotFoundError(f\"YAML config file not found: {yaml_path}\")\n",
    "\n",
    "    # Load YAML thành dict\n",
    "    cfg_yaml = OmegaConf.to_object(OmegaConf.load(yaml_path))\n",
    "\n",
    "    # Khởi tạo config ban đầu (để đảm bảo __post_init__ chạy)\n",
    "    cfg = Config(dataset_name=cfg_yaml.get('dataset_name', 'CIFAR10'),\n",
    "                 exp_depths=cfg_yaml.get('exp_depths', [1]),\n",
    "                 dummy=cfg_yaml.get('dummy', False))\n",
    "\n",
    "    # Ghi đè các giá trị từ YAML lên config đã khởi tạo\n",
    "    for section_name, section_val in cfg_yaml.items():\n",
    "        # Nếu key từ YAML tồn tại trong Config\n",
    "        if hasattr(cfg, section_name):\n",
    "            section = getattr(cfg, section_name)\n",
    "\n",
    "            # Nếu đó là một sub-config (dict) như train, dataset, vgg,...\n",
    "            if isinstance(section_val, dict):\n",
    "                for k, v in section_val.items():\n",
    "                    # Ghi đè từng key nhỏ nếu key tồn tại trong dataclass con\n",
    "                    if hasattr(section, k):\n",
    "                        setattr(section, k, v)\n",
    "\n",
    "            # Nếu là giá trị đơn (dataset_name, dummy, ...)\n",
    "            else:\n",
    "                setattr(cfg, section_name, section_val)\n",
    "\n",
    "    print(f\"✅ Config loaded from {yaml_path}\")\n",
    "    return cfg\n",
    "\n",
    "\n",
    "def save_config(cfg: Config, save_path: str) -> None:\n",
    "    \"\"\"\n",
    "    Lưu toàn bộ config hiện tại sang file .yaml.\n",
    "    \"\"\"\n",
    "    os.makedirs(os.path.dirname(save_path), exist_ok=True)\n",
    "    cfg_struct = OmegaConf.structured(cfg)\n",
    "    OmegaConf.save(config=cfg_struct, f=save_path)\n",
    "    print(f\"✅ Config saved to {save_path}\")\n"
   ]
  },
  {
   "cell_type": "markdown",
   "id": "7b16285c",
   "metadata": {
    "id": "XNDN_a-e626a",
    "papermill": {
     "duration": 0.006803,
     "end_time": "2025-07-14T21:17:43.658604",
     "exception": false,
     "start_time": "2025-07-14T21:17:43.651801",
     "status": "completed"
    },
    "tags": []
   },
   "source": [
    "### Components"
   ]
  },
  {
   "cell_type": "markdown",
   "id": "d62ec7c9",
   "metadata": {
    "id": "O5zBPZutjta0",
    "papermill": {
     "duration": 0.006434,
     "end_time": "2025-07-14T21:17:43.671592",
     "exception": false,
     "start_time": "2025-07-14T21:17:43.665158",
     "status": "completed"
    },
    "tags": []
   },
   "source": [
    "#### Blocks"
   ]
  },
  {
   "cell_type": "code",
   "execution_count": 3,
   "id": "6a937367",
   "metadata": {
    "execution": {
     "iopub.execute_input": "2025-07-14T21:17:43.685620Z",
     "iopub.status.busy": "2025-07-14T21:17:43.685396Z",
     "iopub.status.idle": "2025-07-14T21:17:43.698592Z",
     "shell.execute_reply": "2025-07-14T21:17:43.698069Z"
    },
    "executionInfo": {
     "elapsed": 32,
     "status": "ok",
     "timestamp": 1752470195316,
     "user": {
      "displayName": "Trí Võ",
      "userId": "13642267517387376756"
     },
     "user_tz": -420
    },
    "id": "cVBk0898jvRk",
    "papermill": {
     "duration": 0.021712,
     "end_time": "2025-07-14T21:17:43.699751",
     "exception": false,
     "start_time": "2025-07-14T21:17:43.678039",
     "status": "completed"
    },
    "tags": []
   },
   "outputs": [],
   "source": [
    "import torch.nn as nn\n",
    "from abc import ABC, abstractmethod\n",
    "\n",
    "# Flatten layer\n",
    "class Flatten(nn.Module):\n",
    "    def __init__(self):\n",
    "        super(Flatten, self).__init__()\n",
    "\n",
    "    def forward(self, in_tensor):\n",
    "        return in_tensor.view(in_tensor.size()[0], -1)\n",
    "\n",
    "# ------------------------ ClassifierBlock Class ---------------------\n",
    "class ClassifierBlock(nn.Module):\n",
    "    def __init__(self, in_features, num_classes, dropout=0.5, activation=None):\n",
    "        super().__init__()\n",
    "        self.avg_pooling = nn.AdaptiveAvgPool2d((1, 1))\n",
    "        self.flatten = Flatten()\n",
    "        self.dropout = nn.Dropout(dropout) if (dropout and dropout > 0) else nn.Identity()\n",
    "        self.linear = nn.Linear(in_features, num_classes)\n",
    "        self.activation = self.get_activation(activation)\n",
    "\n",
    "    def forward(self, x):\n",
    "        out = self.avg_pooling(x)\n",
    "        out = self.flatten(out)\n",
    "        out = self.dropout(out)\n",
    "        out = self.linear(out)\n",
    "        out = self.activation(out)\n",
    "        return out\n",
    "\n",
    "    def get_activation(self, name):\n",
    "        if name is None:\n",
    "            return nn.Identity()\n",
    "        name = name.lower()\n",
    "        if name == 'softmax':\n",
    "            return nn.Softmax(dim=1)\n",
    "        elif name == 'sigmoid':\n",
    "            return nn.Sigmoid()\n",
    "        elif name == 'relu':\n",
    "            return nn.ReLU()\n",
    "        elif name == 'tanh':\n",
    "            return nn.Tanh()\n",
    "        else:\n",
    "            raise ValueError(f\"Unsupported activation: {name}\")\n",
    "\n",
    "# ------------------------ ConvBlock Class ---------------------\n",
    "class VGG_ConvBlock(nn.Module):\n",
    "    def __init__(self, in_channels, out_channels, kernel_size=3, stride=1, maxpool=False):\n",
    "        super().__init__()\n",
    "        padding = int(kernel_size > 1)\n",
    "        self.block = nn.Sequential(\n",
    "            nn.Conv2d(in_channels, out_channels, kernel_size, stride, padding, bias=False),\n",
    "            nn.BatchNorm2d(out_channels),\n",
    "            nn.ReLU(inplace=True)\n",
    "        )\n",
    "        self.pool = nn.MaxPool2d(kernel_size=2, stride=2) if maxpool else nn.Identity()\n",
    "\n",
    "    def forward(self, x):\n",
    "        x = self.block(x)\n",
    "        x = self.pool(x)\n",
    "        return x\n",
    "\n",
    "\n",
    "class ResNet_ConvBlock(nn.Module):\n",
    "    def __init__(self, in_channels, mid_channels, out_channels, stride=1, offset=0):\n",
    "        super().__init__()\n",
    "        self.conv1 = nn.Sequential(\n",
    "            nn.Conv2d(in_channels, mid_channels, kernel_size=3, stride=stride, padding=1, bias=False),\n",
    "            nn.BatchNorm2d(mid_channels),\n",
    "            nn.ReLU(inplace=True)\n",
    "        )\n",
    "        self.conv2 = nn.Sequential(\n",
    "            nn.Conv2d(mid_channels + offset, out_channels, kernel_size=3, stride=1, padding=1, bias=False),\n",
    "            nn.BatchNorm2d(out_channels)\n",
    "        )\n",
    "        self.relu = nn.ReLU(inplace=True)\n",
    "\n",
    "        self.downsample = nn.Identity()\n",
    "        if stride != 1 or in_channels != out_channels:\n",
    "            self.downsample = nn.Sequential(\n",
    "                nn.Conv2d(in_channels, out_channels, kernel_size=1, stride=stride, bias=False),\n",
    "                nn.BatchNorm2d(out_channels)\n",
    "            )\n",
    "\n",
    "    def forward(self, x):\n",
    "        identity = self.downsample(x)\n",
    "        out = self.conv1(x)\n",
    "        out = self.conv2(out)\n",
    "        out += identity\n",
    "        return self.relu(out)\n",
    "\n",
    "# ------------------------ ReduceBlock Class ---------------------\n",
    "class ReduceBlock(nn.Module):\n",
    "    def __init__(self, in_channels, red1, red2, architecture='vgg'):\n",
    "        super(ReduceBlock, self).__init__()\n",
    "        self.architecture = architecture.lower()\n",
    "\n",
    "        mid_channels = in_channels // red1\n",
    "        out_channels = max(1, mid_channels // red2)\n",
    "\n",
    "        if architecture == 'vgg':\n",
    "            ks1 = 1\n",
    "            ks2 = 3 if red2 > 10 else 1\n",
    "        elif architecture == 'resnet':\n",
    "            ks1 = 1\n",
    "            ks2 = 3 if red2 > 10 else 1 \n",
    "            # self.pool = nn.AdaptiveAvgPool2d((1, 1))\n",
    "        else:\n",
    "            raise ValueError(\"Unsupported architecture for ReduceBlock\")\n",
    "\n",
    "        self.reduce = nn.Sequential(\n",
    "            nn.Conv2d(in_channels, mid_channels, kernel_size=ks1, stride=1, padding=ks1 // 2),\n",
    "            nn.BatchNorm2d(mid_channels),\n",
    "            nn.ReLU(inplace=True),\n",
    "\n",
    "            nn.Conv2d(mid_channels, out_channels, kernel_size=ks2, stride=1, padding=ks2 // 2),\n",
    "            nn.BatchNorm2d(out_channels),\n",
    "            nn.ReLU(inplace=True),\n",
    "        )\n",
    "\n",
    "    def forward(self, x):\n",
    "        x = self.reduce(x)\n",
    "        # if self.architecture == 'resnet': x = self.pool(x)\n",
    "        return x"
   ]
  },
  {
   "cell_type": "markdown",
   "id": "641a76bd",
   "metadata": {
    "id": "6N3xSQ3Qk2bE",
    "papermill": {
     "duration": 0.006347,
     "end_time": "2025-07-14T21:17:43.712826",
     "exception": false,
     "start_time": "2025-07-14T21:17:43.706479",
     "status": "completed"
    },
    "tags": []
   },
   "source": [
    "#### ExpNet"
   ]
  },
  {
   "cell_type": "code",
   "execution_count": 4,
   "id": "d3f090f4",
   "metadata": {
    "execution": {
     "iopub.execute_input": "2025-07-14T21:17:43.726753Z",
     "iopub.status.busy": "2025-07-14T21:17:43.726554Z",
     "iopub.status.idle": "2025-07-14T21:17:43.743800Z",
     "shell.execute_reply": "2025-07-14T21:17:43.743120Z"
    },
    "executionInfo": {
     "elapsed": 27,
     "status": "ok",
     "timestamp": 1752470777890,
     "user": {
      "displayName": "Trí Võ",
      "userId": "13642267517387376756"
     },
     "user_tz": -420
    },
    "id": "SN8DalrLjwUD",
    "papermill": {
     "duration": 0.025606,
     "end_time": "2025-07-14T21:17:43.744942",
     "exception": false,
     "start_time": "2025-07-14T21:17:43.719336",
     "status": "completed"
    },
    "tags": []
   },
   "outputs": [],
   "source": [
    "import numpy as np\n",
    "import torch\n",
    "import torch.nn as nn\n",
    "# from configs.config import Config\n",
    "# from models.blocks import *\n",
    "from typing import Optional\n",
    "\n",
    "class ExpNet(nn.Module):\n",
    "    def __init__(self, cfg: Config, architecture: str = 'vgg', isExp: bool = False, num_classes: Optional[int] = None):\n",
    "        \"\"\" Initializes the ExpNet model.\n",
    "        Args:\n",
    "            cfg (Config): Configuration object containing model parameters.\n",
    "            architecture (str): Architecture type, either 'vgg' or 'resnet'.\n",
    "            isExp (bool): Flag indicating if the model is an explanation model.\n",
    "            num_classes (Optional[int]): Number of output classes. If None, uses cfg.dataset.num_classes.\n",
    "        \"\"\"\n",
    "        super().__init__()\n",
    "\n",
    "        self.cfg = cfg\n",
    "        self.architecture = architecture.lower()\n",
    "        self.isExp = isExp\n",
    "        self.num_classes = num_classes or cfg.dataset.num_classes\n",
    "        self.in_channels = 3\n",
    "\n",
    "        if self.architecture == 'vgg':\n",
    "            self.channels = cfg.vgg.channels\n",
    "            self.is_maxpool = cfg.vgg.is_maxpool\n",
    "            self.targets = cfg.exp.vgg_exp_layers + [9999]\n",
    "        elif self.architecture == 'resnet':\n",
    "            self.channels = cfg.resnet.channels\n",
    "            self.strides = cfg.resnet.strides\n",
    "            self.targets = cfg.exp.resnet_exp_layers + [9999]\n",
    "        else:\n",
    "            raise ValueError(f\"Unsupported architecture: {self.architecture}\")\n",
    "\n",
    "        self.base_channels = [self.in_channels] + self.channels\n",
    "        self.offsets = np.zeros(len(self.base_channels), dtype=int)  # Cộng thêm channel nếu có reduce\n",
    "\n",
    "        # thiết lập các target GradCAM layer và số feature cần thêm\n",
    "        self.nExtra = 0\n",
    "\n",
    "        if self.isExp: self._init_gradcam_config()\n",
    "\n",
    "        self._build_backbone()\n",
    "\n",
    "        if self.isExp: self._build_reduce_blocks()\n",
    "\n",
    "        # Xác định số kênh cuối cùng trước classifier\n",
    "        final_channels = self.base_channels[-1] + self.offsets[-1]\n",
    "        self.classifier = ClassifierBlock(final_channels, self.num_classes)\n",
    "\n",
    "    def _init_gradcam_config(self):\n",
    "        \"\"\"Khởi tạo thông tin về nhánh giải thích, số features thêm, và target layers\"\"\"\n",
    "        assert self.num_classes is not None\n",
    "        self.oney = torch.eye(self.num_classes).cuda()\n",
    "\n",
    "        self.nin = self.cfg.exp.nin\n",
    "        self.nSplit = self.cfg.exp.nSplit\n",
    "        self.nExtra = self.nin * self.nSplit\n",
    "\n",
    "        # Lấy danh sách target layers từ config\n",
    "        if self.architecture == 'vgg':\n",
    "            layers = np.array(self.cfg.exp.vgg_exp_layers) + 1     # +1 vì layer đầu tiên thường là input\n",
    "        elif self.architecture == 'resnet':\n",
    "            layers = np.array(self.cfg.exp.resnet_exp_layers) + 1  # +1 vì layer đầu tiên thường là input\n",
    "        else:\n",
    "            raise ValueError(f\"Unsupported architecture: {self.architecture}\")\n",
    "\n",
    "        # Chọn depth (subset các layer)\n",
    "        target_layers = layers[self.cfg.exp.exp_depths]\n",
    "        self.targets = target_layers.tolist() + [9999]  # sentinel\n",
    "\n",
    "        # Gán offsets cho từng layer được chọn để biết cần thêm bao nhiêu channel\n",
    "        red_factor = np.prod(self.cfg.exp.expRed) if self.cfg.exp.expRed else 1\n",
    "        added = max(1, self.nExtra // red_factor)\n",
    "        for idx in target_layers:\n",
    "            self.offsets[idx] = added  \n",
    "    \n",
    "    def _build_backbone(self):\n",
    "        if self.architecture == 'vgg':\n",
    "            self.features = self._build_vgg()\n",
    "        elif self.architecture == 'resnet':\n",
    "            self.features = self._build_resnet()\n",
    "\n",
    "    def _build_vgg(self):\n",
    "        self.layers = nn.ModuleList()\n",
    "        for i in range(len(self.base_channels) - 1):\n",
    "            in_c = self.base_channels[i] + self.offsets[i] if i > 0 else self.base_channels[i]\n",
    "            out_c = self.base_channels[i + 1]\n",
    "\n",
    "            block = VGG_ConvBlock(in_c, out_c, kernel_size=3, stride=1,\n",
    "                                  maxpool=self.is_maxpool[i])\n",
    "            self.layers.append(block)\n",
    "\n",
    "    def _build_resnet(self):\n",
    "        self.layers = nn.ModuleList()\n",
    "        # First conv layer\n",
    "        stem_block = VGG_ConvBlock(self.base_channels[0], self.base_channels[1], kernel_size=3, stride=1, maxpool=False)\n",
    "        self.layers.append(stem_block)\n",
    "\n",
    "        for i in range(1, len(self.base_channels) - 2, 2):\n",
    "            in_c = self.base_channels[i] + self.offsets[i] if i > 0 else self.base_channels[i]\n",
    "            mid_c = self.base_channels[i + 1]\n",
    "            out_c = self.base_channels[i + 2]\n",
    "            block = ResNet_ConvBlock(in_c, mid_c, out_c, stride=self.strides[i], offset=self.offsets[i+1])\n",
    "            self.layers.append(block.conv1)\n",
    "            self.layers.append(block.conv2)\n",
    "\n",
    "    def _build_reduce_blocks(self):\n",
    "        self.reduce_block = ReduceBlock(in_channels=self.nExtra,\n",
    "                                        red1=self.cfg.exp.expRed[0],\n",
    "                                        red2=self.cfg.exp.expRed[1],\n",
    "                                        architecture=self.architecture\n",
    "                                       )\n",
    "\n",
    "    def rsh(self, cx):\n",
    "        s = cx.shape\n",
    "        return torch.reshape(cx, (s[0], s[1] * s[2], s[3], s[4]))\n",
    "\n",
    "    def preprocess(self, xbatch):\n",
    "        # Normalize the input tensor\n",
    "        xExp, aExp = None, {}\n",
    "        if self.isExp:\n",
    "            x = xbatch[0]\n",
    "            nexp = np.sum(np.array(self.targets[:-1]) > 0)       # num exp layer\n",
    "            xExp = [ self.rsh(cx) for cx in xbatch[1][:nexp] ]   # use for gradcam\n",
    "        else:\n",
    "            x = xbatch\n",
    "            aExp = None\n",
    "        return x, xExp, aExp\n",
    "\n",
    "    def handle_exp_layer(self, weights, x, xbatch, aExp):\n",
    "        aweis = []\n",
    "        for j in range(self.nin):\n",
    "            cur_aweis = [ weights[:, j * self.nSplit : (j+1) * self.nSplit] ]\n",
    "            cur_aweis = torch.cat(cur_aweis, dim=1)\n",
    "            aweis.append(cur_aweis)\n",
    "\n",
    "        weights = torch.cat(aweis, dim=1)\n",
    "        weights = self.reduce_block(weights)\n",
    "\n",
    "        x = torch.cat([x, weights], axis=1)\n",
    "        return x\n",
    "\n",
    "    def forward(self, xbatch):\n",
    "        x, xExp, aExp = self.preprocess(xbatch)\n",
    "        tpos = 0\n",
    "\n",
    "        for i, layer in enumerate(self.layers):\n",
    "            if self.isExp and i == self.targets[tpos]:\n",
    "                weights = xExp[tpos]\n",
    "                x = self.handle_exp_layer(weights, x, xbatch, aExp)\n",
    "                tpos += 1\n",
    "            x = layer(x)\n",
    "        x = self.classifier(x)\n",
    "        return x\n",
    "\n",
    "    def get_target_layers(self):\n",
    "        target_layers = [self.layers[i] for i in self.targets[:-1]]\n",
    "        return target_layers\n"
   ]
  },
  {
   "cell_type": "markdown",
   "id": "9f52df10",
   "metadata": {
    "id": "ONWnHXOM69vS",
    "papermill": {
     "duration": 0.006883,
     "end_time": "2025-07-14T21:17:43.758578",
     "exception": false,
     "start_time": "2025-07-14T21:17:43.751695",
     "status": "completed"
    },
    "tags": []
   },
   "source": [
    "### Explaination Methods"
   ]
  },
  {
   "cell_type": "markdown",
   "id": "5746e5b0",
   "metadata": {
    "id": "1M8CuY7glAgE",
    "papermill": {
     "duration": 0.007004,
     "end_time": "2025-07-14T21:17:43.772173",
     "exception": false,
     "start_time": "2025-07-14T21:17:43.765169",
     "status": "completed"
    },
    "tags": []
   },
   "source": [
    "#### GradCAM"
   ]
  },
  {
   "cell_type": "code",
   "execution_count": 5,
   "id": "3ed97bc4",
   "metadata": {
    "execution": {
     "iopub.execute_input": "2025-07-14T21:17:43.786483Z",
     "iopub.status.busy": "2025-07-14T21:17:43.786236Z",
     "iopub.status.idle": "2025-07-14T21:17:43.799561Z",
     "shell.execute_reply": "2025-07-14T21:17:43.798754Z"
    },
    "executionInfo": {
     "elapsed": 65,
     "status": "ok",
     "timestamp": 1752470195417,
     "user": {
      "displayName": "Trí Võ",
      "userId": "13642267517387376756"
     },
     "user_tz": -420
    },
    "id": "z3xfrGIQlPNs",
    "papermill": {
     "duration": 0.021876,
     "end_time": "2025-07-14T21:17:43.800776",
     "exception": false,
     "start_time": "2025-07-14T21:17:43.778900",
     "status": "completed"
    },
    "tags": []
   },
   "outputs": [],
   "source": [
    "import torch\n",
    "import torch.nn as nn\n",
    "import torch.nn.functional as F\n",
    "import numpy as np\n",
    "import matplotlib.pyplot as plt\n",
    "\n",
    "class GradCAM(nn.Module):\n",
    "    def __init__(self, model, target_layers, gonly=0, nsplit=1, salnorm=True, relu=True, use_dummy=True):\n",
    "        super(GradCAM, self).__init__()\n",
    "        self.model = model\n",
    "        self.gradients = [None for _ in range(len(target_layers))]\n",
    "        self.activations = [None for _ in range(len(target_layers))]\n",
    "        self.gonly, self.nsplit, self.salnorm, self.relu, self.use_dummy = gonly, nsplit, salnorm, relu, use_dummy\n",
    "        # self.use_dummy =False #for debug visualize\n",
    "\n",
    "        def addHook(target_layer, i):\n",
    "            def backward_hook(module, grad_input, grad_output):\n",
    "                self.gradients[i] = grad_output[0]\n",
    "                return None\n",
    "            def forward_hook(module, input, output):\n",
    "                self.activations[i] = output\n",
    "                return None\n",
    "            target_layer.register_forward_hook(forward_hook)\n",
    "            target_layer.register_backward_hook(backward_hook)\n",
    "\n",
    "        for i, target_layer in enumerate(target_layers):\n",
    "            addHook(target_layer, i)\n",
    "\n",
    "    def get_weights(self, idx, score):\n",
    "        gradients = self.gradients[idx]\n",
    "        b, c, h, w = gradients.size()\n",
    "        alpha = gradients.view(b, c, -1).mean(2)  # GAP\n",
    "        weights = alpha.view(b, c, 1, 1)\n",
    "        return weights\n",
    "\n",
    "    def get_maps(self, idx, h, w, score):\n",
    "        gradients, activations = self.gradients[idx], self.activations[idx]\n",
    "        weights = self.get_weights(idx, score)\n",
    "        relu_func = F.relu if self.relu else lambda x: x\n",
    "\n",
    "        saliency_map = (weights * activations)\n",
    "        osaliency_map = saliency_map.detach()\n",
    "\n",
    "        # Reduce channel dimension\n",
    "        vecs = torch.split(osaliency_map, osaliency_map.shape[1] // self.nsplit, dim=1)\n",
    "        vecs = [v.sum(1, keepdim=True) for v in vecs]\n",
    "        csaliency_map = torch.cat(vecs, dim=1)\n",
    "\n",
    "        # Normalize\n",
    "        def norm(cmap):\n",
    "            min_val, max_val = cmap.min(), cmap.max()\n",
    "            return (cmap - min_val).div(max_val - min_val + 1e-8).data\n",
    "\n",
    "        nonUpSalmap = relu_func(csaliency_map)\n",
    "        nonUpSalmap = norm(nonUpSalmap)\n",
    "        nonUpSalmap = nonUpSalmap.cpu().numpy().astype(np.float16)\n",
    "\n",
    "        if self.use_dummy:\n",
    "            dummy_map = np.zeros([1, 1, 32, 32], dtype=np.float16)\n",
    "            return dummy_map, nonUpSalmap\n",
    "        else:\n",
    "            csaliency_map = csaliency_map.cpu().numpy().astype(np.float16)\n",
    "            return csaliency_map, nonUpSalmap\n",
    "\n",
    "    def forward(self, input, class_idx=None, retain_graph=False):\n",
    "        \"\"\"\n",
    "        Args:\n",
    "            input: input image with shape of (1, 3, H, W)\n",
    "            class_idx (int): class index for calculating GradCAM.\n",
    "            If not specified, the class index that makes the highest model prediction score will be used.\n",
    "        Return:\n",
    "            mask: saliency map of the same spatial dimension with input\n",
    "            logit: model output\n",
    "        \"\"\"\n",
    "        b, c, h, w = input.size() if not isinstance(input, tuple) else input[0].size()\n",
    "        logit = self.model(input)\n",
    "\n",
    "        if class_idx is None:\n",
    "            score = logit[:, logit.max(1)[-1]].squeeze()\n",
    "            clid = logit.max(1)[-1].detach().cpu().numpy()[0]\n",
    "        else:\n",
    "            if class_idx >= 0:\n",
    "                score = logit[:, class_idx].squeeze()\n",
    "                clid = class_idx\n",
    "            else:\n",
    "                sorted_score = logit.sort(1).indices\n",
    "                score = logit[:, sorted_score[-1][class_idx]].squeeze()\n",
    "                clid = sorted_score[-1][class_idx].detach().cpu().numpy()\n",
    "\n",
    "        self.model.zero_grad()\n",
    "        score.backward(retain_graph=retain_graph)\n",
    "\n",
    "        maps, rmaps = [], []\n",
    "        for i in range(len(self.gradients)):\n",
    "            m, rm = self.get_maps(i, h, w, score)\n",
    "            maps.append(m)\n",
    "            rmaps.append(rm)\n",
    "\n",
    "        self.model.zero_grad()\n",
    "        log = logit[:, clid].detach()\n",
    "        nlog = log / (1e-7 + torch.sum(torch.abs(logit)))\n",
    "\n",
    "        return (\n",
    "            np.stack(maps, axis=2),\n",
    "            rmaps,\n",
    "            clid,\n",
    "            log.cpu().numpy()[0],\n",
    "            nlog.detach().cpu().numpy()[0]\n",
    "        )\n",
    "\n",
    "    def __call__(self, input, class_idx=None, retain_graph=False):\n",
    "        return self.forward(input, class_idx, retain_graph)\n"
   ]
  },
  {
   "cell_type": "markdown",
   "id": "429cc106",
   "metadata": {
    "id": "u0aLia9ilOjm",
    "papermill": {
     "duration": 0.00647,
     "end_time": "2025-07-14T21:17:43.814119",
     "exception": false,
     "start_time": "2025-07-14T21:17:43.807649",
     "status": "completed"
    },
    "tags": []
   },
   "source": [
    "#### GradCAM Utils"
   ]
  },
  {
   "cell_type": "code",
   "execution_count": 6,
   "id": "687d2814",
   "metadata": {
    "execution": {
     "iopub.execute_input": "2025-07-14T21:17:43.828331Z",
     "iopub.status.busy": "2025-07-14T21:17:43.828100Z",
     "iopub.status.idle": "2025-07-14T21:17:43.840381Z",
     "shell.execute_reply": "2025-07-14T21:17:43.839677Z"
    },
    "executionInfo": {
     "elapsed": 25,
     "status": "ok",
     "timestamp": 1752470195441,
     "user": {
      "displayName": "Trí Võ",
      "userId": "13642267517387376756"
     },
     "user_tz": -420
    },
    "id": "uLKgauC8lCVk",
    "papermill": {
     "duration": 0.020853,
     "end_time": "2025-07-14T21:17:43.841525",
     "exception": false,
     "start_time": "2025-07-14T21:17:43.820672",
     "status": "completed"
    },
    "tags": []
   },
   "outputs": [],
   "source": [
    "import numpy as np\n",
    "import torch\n",
    "import torch.cuda.amp as tca\n",
    "\n",
    "def get_pred(model, rawx, device):\n",
    "    rawx = torch.from_numpy(rawx).to(device)\n",
    "    outputs = model(rawx)\n",
    "    _, predicted = torch.max(outputs.data, 1)\n",
    "    return outputs, predicted\n",
    "\n",
    "def get_gradcam(cfg, model, target_layers=None, use_dummy=True):\n",
    "    if target_layers is None:\n",
    "        target_layers = model.get_target_layers()\n",
    "\n",
    "    if isinstance(target_layers, list):\n",
    "        target_layers = [model.layers[i] for i in target_layers]\n",
    "\n",
    "    gradcam = GradCAM(model=model, target_layers=target_layers, nsplit=cfg.exp.nSplit, use_dummy=use_dummy)\n",
    "    return gradcam\n",
    "\n",
    "def get_target_index(cfg, target_idx, correct_class, old_targets):\n",
    "    if target_idx[0] == 'C':\n",
    "        target_index = correct_class\n",
    "    elif target_idx[0] == 'R':\n",
    "        if cfg.exp.maxRan == 1:\n",
    "            target_index = np.random.choice(np.arange(cfg.dataset.num_classes))\n",
    "            while target_index in old_targets:\n",
    "                target_index = np.random.choice(np.arange(cfg.dataset.num_classes))\n",
    "        else:\n",
    "            target_index = -np.random.choice(np.arange(int(cfg.dataset.num_classes * cfg.exp.maxRan - 1))) - 1\n",
    "\n",
    "    elif int(target_idx[0]) > 0:\n",
    "        target_index = -int(target_idx[0])\n",
    "    return target_index\n",
    "\n",
    "def batch_exp(cfg, data, norm_x, exps, grad_cam, get_exp=True, target_layers=[3]):\n",
    "    mask = np.zeros((1, 1, 32, 32))\n",
    "    if not get_exp:\n",
    "        if cfg.exp.miExp: mask = -1\n",
    "        masks = [mask] * len(exps)\n",
    "\n",
    "    with torch.amp.autocast('cuda'):\n",
    "        exp_x, raw_exp_x, aids, alogs, anlogs = [], [], [], [], []\n",
    "        class_ids = np.zeros(len(exps), np.int16)\n",
    "        nlogs = np.zeros(len(exps), np.float16)\n",
    "        logs = np.zeros(len(exps), np.float16)\n",
    "        norm_x = norm_x.unsqueeze(1)\n",
    "        correct_class = data[1].cpu().numpy()\n",
    "\n",
    "        for j in range(data[0].shape[0]):\n",
    "            if get_exp:         # Method gradcam.py\n",
    "                masks, raw_masks, old_targets, cmax = [], [], [], -1\n",
    "                for ie, target_idx in enumerate(exps):\n",
    "                    target_index = get_target_index(cfg, target_idx, correct_class[j], old_targets)\n",
    "                    # Further processing with target_index and other variables\n",
    "                    mask, raw_mask, class_id, log, nlog = grad_cam(norm_x[j], target_index)\n",
    "\n",
    "                    if np.isnan(np.sum(mask)):\n",
    "                        print(\"NaN in mask, set mask to 0\")\n",
    "                        mask = np.zeros_like(mask, dtype=np.float16)\n",
    "\n",
    "                    old_targets.append(class_id)\n",
    "                    masks.append(mask)\n",
    "                    raw_masks.append(raw_mask)\n",
    "\n",
    "                    class_ids[ie] = class_id\n",
    "                    logs[ie] = log\n",
    "                    nlogs[ie] = nlog\n",
    "\n",
    "            sta = lambda i: np.stack([r[i] for r in raw_masks], axis=1).astype(np.float16)\n",
    "            fin = np.concatenate(masks, axis=1)\n",
    "            fin_raw = [sta(i) for i in range(len(target_layers))]\n",
    "\n",
    "            exp_x.append(fin)\n",
    "            raw_exp_x.append(fin_raw)\n",
    "\n",
    "            aids.append(np.copy(class_ids))\n",
    "            alogs.append(np.copy(logs))\n",
    "            anlogs.append(np.copy(nlogs))\n",
    "\n",
    "    exp_input = np.concatenate(exp_x, axis=0).astype(np.float16)\n",
    "\n",
    "    aids = np.stack(aids, axis=0).astype(np.int16)\n",
    "    alogs = np.stack(alogs, axis=0).astype(np.float16)\n",
    "    anlogs = np.stack(anlogs, axis=0).astype(np.float16)\n",
    "\n",
    "    # mid exps for one layer: batch size, class for which exp, splits, h, w\n",
    "    # mid exps = list with one entry per layer\n",
    "    # input exps = batch size, class for which exp, layers, h, w\n",
    "    # exps = np.moveaxis(exps, 1, -1)\n",
    "\n",
    "    def get_layer(i):\n",
    "        ri = np.concatenate([r[i] for r in raw_exp_x], axis=0)\n",
    "        return ri   # np.moveaxis(ri, 1, -1)\n",
    "\n",
    "    exp_mid = [get_layer(i) for i in range(len(target_layers))]\n",
    "\n",
    "    return exp_input, exp_mid, aids, anlogs, alogs\n"
   ]
  },
  {
   "cell_type": "markdown",
   "id": "12ed2fb2",
   "metadata": {
    "id": "1H457Rum7hTZ",
    "papermill": {
     "duration": 0.00646,
     "end_time": "2025-07-14T21:17:43.854610",
     "exception": false,
     "start_time": "2025-07-14T21:17:43.848150",
     "status": "completed"
    },
    "tags": []
   },
   "source": [
    "### Classifier"
   ]
  },
  {
   "cell_type": "code",
   "execution_count": 7,
   "id": "0c6a3655",
   "metadata": {
    "execution": {
     "iopub.execute_input": "2025-07-14T21:17:43.868529Z",
     "iopub.status.busy": "2025-07-14T21:17:43.868329Z",
     "iopub.status.idle": "2025-07-14T21:17:43.871671Z",
     "shell.execute_reply": "2025-07-14T21:17:43.871161Z"
    },
    "executionInfo": {
     "elapsed": 4,
     "status": "ok",
     "timestamp": 1752470195442,
     "user": {
      "displayName": "Trí Võ",
      "userId": "13642267517387376756"
     },
     "user_tz": -420
    },
    "id": "vNjgMKqs7kG6",
    "papermill": {
     "duration": 0.011371,
     "end_time": "2025-07-14T21:17:43.872687",
     "exception": false,
     "start_time": "2025-07-14T21:17:43.861316",
     "status": "completed"
    },
    "tags": []
   },
   "outputs": [],
   "source": [
    "def print_info(net_name:str, net:ExpNet):\n",
    "    print(f\"\\n--- Tham số (Parameters) trong {net_name} ---\")\n",
    "    for name, param in net.named_parameters():\n",
    "        print(f\"{name} - {param.shape} - {param.requires_grad}\")"
   ]
  },
  {
   "cell_type": "code",
   "execution_count": 8,
   "id": "8740d2a0",
   "metadata": {
    "execution": {
     "iopub.execute_input": "2025-07-14T21:17:43.928853Z",
     "iopub.status.busy": "2025-07-14T21:17:43.928616Z",
     "iopub.status.idle": "2025-07-14T21:17:43.963037Z",
     "shell.execute_reply": "2025-07-14T21:17:43.962364Z"
    },
    "executionInfo": {
     "elapsed": 105,
     "status": "ok",
     "timestamp": 1752470509247,
     "user": {
      "displayName": "Trí Võ",
      "userId": "13642267517387376756"
     },
     "user_tz": -420
    },
    "id": "1JpMzaxPNcTU",
    "papermill": {
     "duration": 0.084932,
     "end_time": "2025-07-14T21:17:43.964141",
     "exception": false,
     "start_time": "2025-07-14T21:17:43.879209",
     "status": "completed"
    },
    "tags": []
   },
   "outputs": [],
   "source": [
    "import numpy as np,copy\n",
    "import torch\n",
    "import torch.nn as nn\n",
    "import torch.optim as optim\n",
    "import torch.cuda.amp as tca\n",
    "\n",
    "# experiment run\n",
    "def exp_run(cfg, dataset, get_exp, nexp, exps, grad_cam, target_layers, norm):\n",
    "    # Data consists of: X, y, all exps, estimated y of exps, logit y, normed logits\n",
    "    # All Exps: List of Input Ex, Mid Ex (where Input Ex is always one entry, and Mid Ex has one list entry per layer)\n",
    "    # Mid Ex for one layer: batchSize, ClassForWhichExp, splits, h, w\n",
    "    # Input Ex: batchSize, ClassForWhichExp, layers, h, w\n",
    "\n",
    "    ox, oy, exp_x, raw_exp_x, masks = [], [], [], [], []\n",
    "    aids, alogs, anlogs = [], [], []\n",
    "\n",
    "    for i, data in enumerate(dataset):\n",
    "        norm_x = (data[0].cuda() - norm[0]) / norm[1]\n",
    "        ox.append(norm_x.cpu().numpy().astype(np.float16))\n",
    "        oy.append(data[1].numpy().astype(np.int16))\n",
    "\n",
    "        bx, bx2, clids, logs, nlogs = batch_exp(cfg, data, norm_x, exps, grad_cam, get_exp=get_exp, target_layers=target_layers)\n",
    "        # print(f'batch{i}.shape', bx.shape)\n",
    "        exp_x.append(bx)\n",
    "        raw_exp_x.append(bx2)\n",
    "\n",
    "        aids.append(clids)\n",
    "        alogs.append(logs)\n",
    "        anlogs.append(nlogs)\n",
    "\n",
    "        if len(oy) * data[0].shape[0] > nexp: break\n",
    "        if len(oy) % 40 == 0: print(\"Computed Explanations: \", len(oy) * data[0].shape[0])\n",
    "\n",
    "    oy = np.concatenate(oy).astype(np.int16)\n",
    "    ox = np.concatenate(ox, axis=0).astype(np.float16)\n",
    "    exp_x = np.concatenate(exp_x, axis=0).astype(np.float16)\n",
    "\n",
    "    aids = np.concatenate(aids, axis=0).astype(np.int16)\n",
    "    alogs = np.concatenate(alogs, axis=0).astype(np.float16)\n",
    "    anlogs = np.concatenate(anlogs, axis=0).astype(np.float16)\n",
    "\n",
    "    sta = lambda i: np.concatenate([r[i] for r in raw_exp_x], axis=0)\n",
    "    exp_r = [sta(i) for i in range(len(target_layers))]\n",
    "    return ox, oy, [exp_x] + exp_r, aids, alogs, anlogs\n",
    "\n",
    "def select_layers(ds):        # Returns X, Y, Exp(SalMaps), classes, logits (if used later)\n",
    "    tl = [0]\n",
    "    ds = list(ds[:2]) + ds[2] + list(ds[3:])\n",
    "    return ds[:2] + [ds[3 + t] for t in tl] + [ds[-3]]\n",
    "\n",
    "# -------------------------------------- Get Explanations ------------------------------------\n",
    "def get_exps(cfg, model, train_dataset, val_dataset, norm):\n",
    "    gradcam = None\n",
    "\n",
    "    target_layers = np.array(model.targets)[cfg.exp.exp_depths] + 1 # +1 cho khớp thứ tự layers trong model \n",
    "    target_layers = target_layers.tolist()\n",
    "    print('target_layer for gradcam:', target_layers)\n",
    "\n",
    "    gradcam = get_gradcam(cfg, model, target_layers)\n",
    "\n",
    "    print(\"Compute Explanations for training data\")\n",
    "    train_data = exp_run(cfg, train_dataset, True, cfg.dataset.ntrain, cfg.exp.exps, gradcam, target_layers, norm)\n",
    "\n",
    "    print(\"Compute Explanations for validation data\")\n",
    "    val_data = exp_run(cfg, val_dataset, True, cfg.dataset.ntrain // 2, cfg.exp.exps, gradcam, target_layers, norm)\n",
    "\n",
    "    return train_data, val_data\n",
    "\n",
    "def get_exp(data, ran_opt, zero_exp, is_train=True):\n",
    "    idxs =  None\n",
    "    if is_train:\n",
    "        idxs = np.random.choice(ran_opt, data[0].shape[0])\n",
    "        lex = [np.expand_dims(d[np.arange(d.shape[0]), idxs], axis=1) for d in data]\n",
    "    else:\n",
    "        lex = [np.expand_dims(d[:, ran_opt[0]], axis=1) for d in data]\n",
    "\n",
    "    return lex, idxs\n",
    "\n",
    "def get_x_data(x_data, zero_exp, aug, ran_opt):\n",
    "    rdata = [x.clone().numpy() for x in x_data[1:]] # Selected explanations - don't change original input at 0\n",
    "    ex, idxs = get_exp(rdata, ran_opt, zero_exp=zero_exp)\n",
    "    return [x_data[0].cuda()]+[torch.from_numpy(d).cuda() for d in ex], idxs\n",
    "\n",
    "# -------------------------- Get Accuracy - Loss ----------------------------------\n",
    "\n",
    "def get_sigle_acc(net, data_x, labels, pool=None):\n",
    "    with torch.amp.autocast('cuda'):\n",
    "        outputs = net(data_x)\n",
    "        if type(outputs) is tuple: outputs=outputs[1] #for attention net use second output\n",
    "        _, predicted = torch.max(outputs.data, 1)\n",
    "        correct = torch.eq(predicted, labels).sum().item()\n",
    "        return correct\n",
    "\n",
    "def get_exp_acc(net, dataset, iexp, niter=100, pool=None, zero_exp=1):\n",
    "    correct, total = 0, 0\n",
    "    net.eval()\n",
    "    with torch.no_grad():\n",
    "        for i, data in enumerate(dataset):\n",
    "            labels = data[1].cuda()\n",
    "            exp_data = [d.clone().numpy() for d in data[2:]] # Selected explanations - don't change original input at 0\n",
    "            nd, _ = get_exp(exp_data, iexp, zero_exp=zero_exp, is_train=False)\n",
    "\n",
    "            xgpu = data[0].cuda()\n",
    "            ndgpu = [torch.from_numpy(x).cuda() for x in nd]\n",
    "\n",
    "            correct += get_sigle_acc(net, (xgpu, ndgpu), labels, pool=pool)\n",
    "            total += labels.size(0)\n",
    "            if i >= niter: break\n",
    "    return correct / total\n",
    "\n",
    "def get_acc(net, dataset, niter=100, norm=None):\n",
    "    correct, total = 0, 0\n",
    "    net.eval()\n",
    "    with torch.no_grad():\n",
    "        for i, data in enumerate(dataset):\n",
    "            dsx, dsy = data[0].cuda(), data[1].cuda()\n",
    "            dsx = (dsx - norm[0]) / norm[1]\n",
    "            total += dsy.size(0)\n",
    "            outputs = net(dsx.float())\n",
    "            _, predicted = torch.max(outputs.data, 1)\n",
    "            correct += torch.eq(predicted, dsy).sum().item()\n",
    "            if i >= niter: break\n",
    "    return correct / total\n",
    "\n",
    "def get_loss(model):\n",
    "    reg_loss = 0\n",
    "    for name,param in model.named_parameters():\n",
    "        if 'bn' not in name:\n",
    "             reg_loss += torch.norm(param)\n",
    "    # loss = cls_loss + args.weight_decay*reg_loss\n",
    "    return reg_loss\n",
    "\n",
    "# -------------------------------------- Get Classifier ------------------------------------\n",
    "\n",
    "def get_out(ndgpu, exp_net):\n",
    "    dropCl = False\n",
    "    dropA =  False\n",
    "    output = exp_net((ndgpu[0], ndgpu[1:], dropCl, dropA))\n",
    "    return output\n",
    "\n",
    "def get_net(cfg, architecture, isExp=False):\n",
    "    NETWORK = ExpNet\n",
    "    exp_net = NETWORK(cfg, architecture, isExp, cfg.dataset.num_classes).cuda()\n",
    "    return exp_net\n",
    "\n",
    "def get_exp_classifier(cfg, architecture, train_dataset, val_dataset, res_folder, trained_net_self=None):\n",
    "    exp_net = get_net(cfg, architecture, isExp=True)\n",
    "\n",
    "    if trained_net_self is not None: # copying params\n",
    "        exp_params = dict(exp_net.named_parameters())\n",
    "        trained_params = dict(trained_net_self.named_parameters())\n",
    "\n",
    "        # print_info('trained net (Self)', trained_net_self)\n",
    "        # print_info('exp net (Reflective)', exp_net)\n",
    "\n",
    "        for name, trained_param in trained_params.items():\n",
    "            if name.startswith('layers') or name.startswith('classifier.'):\n",
    "                if name in exp_params:\n",
    "                    exp_param = exp_params[name]\n",
    "\n",
    "                    if len(trained_param.shape) != len(exp_param.shape):\n",
    "                        print(f\"Warning: Shape mismatch for parameter {name}: trained {trained_param.shape} vs exp {exp_param.shape}\")\n",
    "                        continue\n",
    "\n",
    "                    if trained_param.data.shape == exp_param.data.shape:\n",
    "                        # Shapes match, copy all data\n",
    "                        exp_param.data.copy_(trained_param.data)\n",
    "\n",
    "                    elif len(trained_param.shape) == 4: # Conv2d weights (out_channels, in_channels, kernel_h, kernel_w)\n",
    "                        # Copy weights for original input channels (dimension 1)\n",
    "                        in_c_orig = trained_param.data.shape[1]\n",
    "                        exp_param.data[:, :in_c_orig, :, :] = trained_param.data.clone()\n",
    "\n",
    "                    elif len(trained_param.shape) == 2: # Linear weights (out_features, in_features)\n",
    "                        # Copy weights for original input features (dimension 1)\n",
    "                        in_f_orig = trained_param.data.shape[1]\n",
    "                        exp_param.data[:, :in_f_orig] = trained_param.data.clone()\n",
    "                    else:\n",
    "                        # Handle other dimensions if necessary (e.g., 1D bias)\n",
    "                        # If shapes are different but dimensions match, assume it's a simple bias mismatch\n",
    "                        # Copy based on minimum shape if dimensions allow\n",
    "                        min_shape = [min(s1, s2) for s1, s2 in zip(trained_param.data.shape, exp_param.data.shape)]\n",
    "                        # Construct slice dynamically\n",
    "                        slices = [slice(0, ms) for ms in min_shape]\n",
    "                        exp_param.data[slices] = trained_param.data[slices].clone()\n",
    "\n",
    "    exp_optimizer = optim.SGD(exp_net.parameters(), lr=cfg.train.lr, momentum=cfg.train.momentum, weight_decay=cfg.train.weight_decay)\n",
    "\n",
    "    exp_scheduler = optim.lr_scheduler.MultiStepLR(\n",
    "        exp_optimizer,\n",
    "        milestones=cfg.train.milestones,\n",
    "        gamma=cfg.train.gamma\n",
    "    )\n",
    "\n",
    "    closs, epochs, loss = 0, cfg.train.epochs, nn.CrossEntropyLoss()\n",
    "\n",
    "    print(\"Train Reflective Classifier\")\n",
    "    scaler = torch.amp.GradScaler('cuda')\n",
    "    ran_opt = np.sort(np.array([0, 1])) #sorting is very important\n",
    "    emate_accs, etr_acc = [], []\n",
    "\n",
    "    iexp = list(np.arange(len(cfg.exp.exps)))\n",
    "    icorr = iexp[:1] + iexp[2:]\n",
    "    imax = iexp[2:]\n",
    "\n",
    "    for epoch in range(epochs):\n",
    "        exp_net.train()\n",
    "        for i, data in enumerate(train_dataset):\n",
    "            with torch.amp.autocast('cuda'):\n",
    "                exp_optimizer.zero_grad()\n",
    "                dsy = data[1].cuda()\n",
    "                ndgpu, idxs = get_x_data([data[0]] + list(data[2:]), False, False, ran_opt)\n",
    "                output = get_out(ndgpu, exp_net)\n",
    "                errD_real = loss(output, dsy.long())\n",
    "\n",
    "                scaler.scale(errD_real).backward()\n",
    "                scaler.step(exp_optimizer)\n",
    "                scaler.update()\n",
    "\n",
    "                closs = 0.97 * closs + 0.03 * errD_real.item() if epoch > 20 else 0.8 * closs + 0.2 * errD_real.item()\n",
    "\n",
    "        # update lr if needed\n",
    "        exp_scheduler.step()\n",
    "\n",
    "        exp_net.eval()\n",
    "\n",
    "        emate_accs.append(get_exp_acc(exp_net, val_dataset, imax, niter=cfg.train.niter) if len(imax) else -1)\n",
    "\n",
    "        if (epoch % 4 == 0 and epoch <= 13) or (epoch % 20 == 0 and epoch > 13) :\n",
    "            cur_acc = get_exp_acc(exp_net, val_dataset, iexp[1:], niter=cfg.train.niter)\n",
    "            print(epoch, np.round(np.array([closs, cur_acc, get_exp_acc(exp_net, train_dataset, icorr, niter=cfg.train.niter)]), 5))\n",
    "\n",
    "            if np.isnan(closs):\n",
    "                print(\"Failed!!!\")\n",
    "                return None, None\n",
    "\n",
    "    exp_net.eval()\n",
    "    lcfg = {\n",
    "        'test_acc_correct': get_exp_acc(exp_net, val_dataset, [0], niter=cfg.train.niter),\n",
    "        'test_acc_predict': get_exp_acc(exp_net, val_dataset, [2], niter=cfg.train.niter),\n",
    "        'test_acc_random' : get_exp_acc(exp_net, val_dataset, [1], niter=cfg.train.niter),\n",
    "    }\n",
    "\n",
    "    set_eval(exp_net)\n",
    "\n",
    "    return exp_net, lcfg\n",
    "\n",
    "def set_eval(exp_net):\n",
    "    exp_net.eval()\n",
    "    for name, module in exp_net.named_modules():\n",
    "        if isinstance(module, nn.Dropout): module.p = 0\n",
    "        elif isinstance(module, nn.LSTM): module.dropout = 0 #print(\"zero lstm drop\") #print(\"zero drop\")\n",
    "        elif isinstance(module, nn.GRU): module.dropout = 0\n",
    "\n",
    "def get_classifier(cfg, architecture, train_dataset, val_dataset, res_folder, forceLoad=False, norm=None):\n",
    "    non_exp_net = get_net(cfg, architecture, isExp=False)\n",
    "\n",
    "    non_exp_optimizer = optim.SGD(non_exp_net.parameters(), lr=cfg.train.lr, momentum=cfg.train.momentum, weight_decay=cfg.train.weight_decay)\n",
    "    non_exp_scheduler = optim.lr_scheduler.MultiStepLR(\n",
    "        non_exp_optimizer,\n",
    "        milestones=cfg.train.milestones,\n",
    "        gamma=cfg.train.gamma\n",
    "    )\n",
    "\n",
    "    closs, epochs, loss, = 0, cfg.train.epochs, nn.CrossEntropyLoss()\n",
    "\n",
    "    print(\"Train non-reflective classifier\")\n",
    "    scaler = torch.amp.GradScaler('cuda')\n",
    "    test_accs, train_accs = [], []\n",
    "    class_acc = lambda dataset:get_acc(non_exp_net, dataset, niter=cfg.train.niter, norm=norm)\n",
    "\n",
    "    for epoch in range(epochs):\n",
    "        non_exp_net.train()\n",
    "        for i, data in enumerate(train_dataset):\n",
    "            with torch.amp.autocast('cuda'):\n",
    "                non_exp_optimizer.zero_grad()\n",
    "\n",
    "                dsx = data[0].cuda()\n",
    "                dsx = (dsx - norm[0]) / norm[1]\n",
    "                dsy = data[1].cuda()\n",
    "\n",
    "                output = non_exp_net(dsx.float())\n",
    "                errD_real = loss(output, dsy.long())\n",
    "\n",
    "                scaler.scale(errD_real).backward()\n",
    "                scaler.step(non_exp_optimizer)\n",
    "                scaler.update()\n",
    "\n",
    "                closs = 0.97 * closs + 0.03 * errD_real.item() if epoch > 20 else 0.8 * closs + 0.2 * errD_real.item()\n",
    "\n",
    "        # update lr if needed\n",
    "        non_exp_scheduler.step()\n",
    "        non_exp_net.eval()\n",
    "\n",
    "        test_accs.append(class_acc(val_dataset))\n",
    "        train_accs.append(class_acc(train_dataset))\n",
    "\n",
    "        if (epoch % 4 == 0 and epoch <= 13) or (epoch % 20 == 0 and epoch > 13):\n",
    "            print(epoch, np.round(np.array([closs, test_accs[-1], train_accs[-1]]), 5))\n",
    "\n",
    "            if np.isnan(closs):\n",
    "                print(\"Failed!!!\")\n",
    "                return None, None\n",
    "        lcfg = {\n",
    "            'test_acc': class_acc(val_dataset),\n",
    "            'train_acc': class_acc(train_dataset),\n",
    "        }\n",
    "\n",
    "        set_eval(non_exp_net)\n",
    "\n",
    "    return non_exp_net, lcfg, False\n"
   ]
  },
  {
   "cell_type": "markdown",
   "id": "12def3cc",
   "metadata": {
    "id": "GPx12wsTleJF",
    "papermill": {
     "duration": 0.006487,
     "end_time": "2025-07-14T21:17:43.977593",
     "exception": false,
     "start_time": "2025-07-14T21:17:43.971106",
     "status": "completed"
    },
    "tags": []
   },
   "source": [
    "### Dataset Handling"
   ]
  },
  {
   "cell_type": "code",
   "execution_count": 9,
   "id": "9053ff3d",
   "metadata": {
    "execution": {
     "iopub.execute_input": "2025-07-14T21:17:43.991407Z",
     "iopub.status.busy": "2025-07-14T21:17:43.991101Z",
     "iopub.status.idle": "2025-07-14T21:17:50.244415Z",
     "shell.execute_reply": "2025-07-14T21:17:50.243599Z"
    },
    "executionInfo": {
     "elapsed": 2442,
     "status": "ok",
     "timestamp": 1752470197925,
     "user": {
      "displayName": "Trí Võ",
      "userId": "13642267517387376756"
     },
     "user_tz": -420
    },
    "id": "hh9XODK27Ih4",
    "papermill": {
     "duration": 6.261871,
     "end_time": "2025-07-14T21:17:50.245868",
     "exception": false,
     "start_time": "2025-07-14T21:17:43.983997",
     "status": "completed"
    },
    "tags": []
   },
   "outputs": [],
   "source": [
    "import torchvision,torch\n",
    "import torchvision.transforms as transforms\n",
    "from torch.utils.data import Dataset, TensorDataset\n",
    "import numpy as np\n",
    "import sklearn\n",
    "# from .config import Config\n",
    "\n",
    "# get dataset\n",
    "gds = lambda dataset, cfg: torch.utils.data.DataLoader(TensorDataset(*[torch.from_numpy(x) for x in dataset]), batch_size=cfg.batch_size)\n",
    "\n",
    "def get_norm(mean, std):\n",
    "    return (torch.from_numpy(np.array(mean, np.float32).reshape(1,3,1,1)).cuda(),\n",
    "            torch.from_numpy(np.array(std, np.float32).reshape(1,3,1,1)).cuda())\n",
    "\n",
    "def get_full_ds(cfg):\n",
    "    if cfg.dataset.name.upper() == 'CIFAR10':\n",
    "        data = torchvision.datasets.CIFAR10\n",
    "    elif cfg.dataset.name.upper() == 'CIFAR100':\n",
    "        data = torchvision.datasets.CIFAR100\n",
    "\n",
    "    trans=transforms.Compose([transforms.ToTensor()])\n",
    "    ntrain, down = cfg.dataset.ntrain, True\n",
    "\n",
    "    def load_store(is_train, n_data):\n",
    "        nonlocal data\n",
    "        trainset = data(root=\"data/\", train=is_train, download=down, transform=transforms.ToTensor())\n",
    "        train_dataset = torch.utils.data.DataLoader(trainset, batch_size=n_data, num_workers=4)\n",
    "\n",
    "        ds = next(iter(train_dataset))\n",
    "        X, Y = ds[0].clone().numpy(), ds[1].clone().numpy()\n",
    "        ds = [X, Y]\n",
    "        ds = sklearn.utils.shuffle(*ds)\n",
    "        return ds[0].astype(np.float16), ds[1].astype(np.int16)\n",
    "\n",
    "    train_X, train_Y = load_store(True, ntrain)\n",
    "    test_X, test_Y = load_store(False, ntrain//2)\n",
    "\n",
    "    def create_dataset(cfg, train_X, train_Y, shuffle=True):\n",
    "        ds = TensorDataset(torch.from_numpy(train_X), torch.from_numpy(train_Y))\n",
    "        return torch.utils.data.DataLoader(ds, batch_size=cfg.train.batch_size, shuffle=shuffle, num_workers=4)\n",
    "\n",
    "    trainset = create_dataset(cfg, train_X, train_Y)\n",
    "    testset = create_dataset(cfg, test_X, test_Y, False)\n",
    "\n",
    "    norm = get_norm(cfg.dataset.norm_mean, cfg.dataset.norm_std)\n",
    "\n",
    "    return trainset, testset, None, norm\n"
   ]
  },
  {
   "cell_type": "markdown",
   "id": "adc92d8e",
   "metadata": {
    "id": "NMHTRxbr7gbv",
    "papermill": {
     "duration": 0.006719,
     "end_time": "2025-07-14T21:17:50.259847",
     "exception": false,
     "start_time": "2025-07-14T21:17:50.253128",
     "status": "completed"
    },
    "tags": []
   },
   "source": [
    "### Evaluate"
   ]
  },
  {
   "cell_type": "markdown",
   "id": "f784aa50",
   "metadata": {
    "id": "zt6bEZLmA16d",
    "papermill": {
     "duration": 0.006505,
     "end_time": "2025-07-14T21:17:50.272961",
     "exception": false,
     "start_time": "2025-07-14T21:17:50.266456",
     "status": "completed"
    },
    "tags": []
   },
   "source": [
    "#### Print executing config functions"
   ]
  },
  {
   "cell_type": "code",
   "execution_count": 10,
   "id": "b87968e6",
   "metadata": {
    "execution": {
     "iopub.execute_input": "2025-07-14T21:17:50.287114Z",
     "iopub.status.busy": "2025-07-14T21:17:50.286802Z",
     "iopub.status.idle": "2025-07-14T21:17:50.291611Z",
     "shell.execute_reply": "2025-07-14T21:17:50.290935Z"
    },
    "executionInfo": {
     "elapsed": 19,
     "status": "ok",
     "timestamp": 1752470197927,
     "user": {
      "displayName": "Trí Võ",
      "userId": "13642267517387376756"
     },
     "user_tz": -420
    },
    "id": "DKS4TaanWc0a",
    "papermill": {
     "duration": 0.013077,
     "end_time": "2025-07-14T21:17:50.292720",
     "exception": false,
     "start_time": "2025-07-14T21:17:50.279643",
     "status": "completed"
    },
    "tags": []
   },
   "outputs": [],
   "source": [
    "def print_executing_config(cfg, architecture, data_name):\n",
    "    print('Executing config:')\n",
    "    print('CNN Architecture:', architecture.upper())\n",
    "    print('Dataset:', data_name.upper())\n",
    "    exp_names = ['Low', 'Middle', 'High']\n",
    "    exp_layers = []\n",
    "    if architecture.upper()=='VGG':\n",
    "        exp_layers = cfg.exp.vgg_exp_layers\n",
    "    elif architecture.upper()=='RESNET':\n",
    "        exp_layers = cfg.exp.resnet_exp_layers\n",
    "    exp_depths = [(exp_names[i], exp_layers[i]) for i in cfg.exp.exp_depths]\n",
    "    print('Depths of explainations:', exp_depths)\n",
    "    print('--------------------------------------------')"
   ]
  },
  {
   "cell_type": "code",
   "execution_count": 11,
   "id": "d807d967",
   "metadata": {
    "execution": {
     "iopub.execute_input": "2025-07-14T21:17:50.310584Z",
     "iopub.status.busy": "2025-07-14T21:17:50.310376Z",
     "iopub.status.idle": "2025-07-14T21:17:50.315696Z",
     "shell.execute_reply": "2025-07-14T21:17:50.314849Z"
    },
    "executionInfo": {
     "elapsed": 17,
     "status": "ok",
     "timestamp": 1752470197929,
     "user": {
      "displayName": "Trí Võ",
      "userId": "13642267517387376756"
     },
     "user_tz": -420
    },
    "id": "bbAcffC2AJlN",
    "papermill": {
     "duration": 0.016212,
     "end_time": "2025-07-14T21:17:50.317068",
     "exception": false,
     "start_time": "2025-07-14T21:17:50.300856",
     "status": "completed"
    },
    "tags": []
   },
   "outputs": [],
   "source": [
    "def print_executing_non_self_config(cfg, architecture_c0, architecture_ref, data_name):\n",
    "    print('Executing config:')\n",
    "    print('C0 Architecture:', architecture_c0.upper(), '\\t Reflective Architecture:', architecture_ref.upper())\n",
    "    print('Dataset:', data_name.upper())\n",
    "    exp_names = ['Low', 'Middle', 'High']\n",
    "    exp_layers = []\n",
    "    if architecture_c0.upper()=='VGG':\n",
    "        exp_layers = cfg.exp.vgg_exp_layers\n",
    "    elif architecture_c0.upper()=='RESNET':\n",
    "        exp_layers = cfg.exp.resnet_exp_layers\n",
    "    exp_depths = [(exp_names[i], exp_layers[i]) for i in cfg.exp.exp_depths]\n",
    "    print('Depths of explainations:', exp_depths)\n",
    "    print('--------------------------------------------')"
   ]
  },
  {
   "cell_type": "markdown",
   "id": "b85b8253",
   "metadata": {
    "id": "LFH-oF_AA_gk",
    "papermill": {
     "duration": 0.007741,
     "end_time": "2025-07-14T21:17:50.333066",
     "exception": false,
     "start_time": "2025-07-14T21:17:50.325325",
     "status": "completed"
    },
    "tags": []
   },
   "source": [
    "#### Evaluate self reflective"
   ]
  },
  {
   "cell_type": "code",
   "execution_count": 12,
   "id": "033a0a32",
   "metadata": {
    "execution": {
     "iopub.execute_input": "2025-07-14T21:17:50.353451Z",
     "iopub.status.busy": "2025-07-14T21:17:50.353152Z",
     "iopub.status.idle": "2025-07-14T21:17:50.361120Z",
     "shell.execute_reply": "2025-07-14T21:17:50.360581Z"
    },
    "executionInfo": {
     "elapsed": 14,
     "status": "ok",
     "timestamp": 1752470197930,
     "user": {
      "displayName": "Trí Võ",
      "userId": "13642267517387376756"
     },
     "user_tz": -420
    },
    "id": "y2hVNAolWux8",
    "papermill": {
     "duration": 0.017214,
     "end_time": "2025-07-14T21:17:50.362128",
     "exception": false,
     "start_time": "2025-07-14T21:17:50.344914",
     "status": "completed"
    },
    "tags": []
   },
   "outputs": [],
   "source": [
    "def evaluate_self_run(cfg, architecture='VGG', all_gains=[]):\n",
    "    # all_gains = []\n",
    "\n",
    "    # get dataset\n",
    "    train_dataset, val_dataset, _, norm = get_full_ds(cfg)\n",
    "\n",
    "    # train and save non-reflective model\n",
    "    model, lcfg, loaded = get_classifier(cfg, architecture, train_dataset, val_dataset, None, norm=norm)\n",
    "\n",
    "    # create explainations on model\n",
    "    train_dataset, val_dataset, oX, _ = get_full_ds(cfg)\n",
    "    train_exps, test_exps = get_exps(cfg, model, train_dataset, val_dataset, norm)\n",
    "    train_exps, test_exps = select_layers(train_exps), select_layers(test_exps)\n",
    "\n",
    "    # Train new reflective model\n",
    "    train_dataset, val_dataset = gds(train_exps, cfg.train), gds(test_exps, cfg.train)\n",
    "    exp_model, ecfg = get_exp_classifier(cfg, architecture, train_dataset, val_dataset, None, trained_net_self=model)\n",
    "\n",
    "    # return exp_model, all_gains, ecfg, lcfg\n",
    "\n",
    "    print('Outcomes:')\n",
    "    print('Accuracies on non-reflective Classifier:', lcfg)\n",
    "    print('Accuracies on reflective Classifier:', ecfg)\n",
    "\n",
    "    all_gains.append(ecfg['test_acc_predict'] - lcfg['test_acc'])\n",
    "\n",
    "    print('Gains of reflective Classifier if use predictions in [%] for this run:', np.round(all_gains[-1], 4)*100)\n",
    "    print('... for all runs', '#runs:', len(all_gains),\n",
    "          'Mean Gain', np.round(np.mean(np.array(all_gains)), 4)*100,\n",
    "          'Std Gain', np.round(np.std(np.array(all_gains)), 4)*100)\n",
    "    print('\\n\\n')"
   ]
  },
  {
   "cell_type": "code",
   "execution_count": 13,
   "id": "e7daedb0",
   "metadata": {
    "execution": {
     "iopub.execute_input": "2025-07-14T21:17:50.383447Z",
     "iopub.status.busy": "2025-07-14T21:17:50.383231Z",
     "iopub.status.idle": "2025-07-14T21:17:50.387449Z",
     "shell.execute_reply": "2025-07-14T21:17:50.386751Z"
    },
    "executionInfo": {
     "elapsed": 12,
     "status": "ok",
     "timestamp": 1752470197931,
     "user": {
      "displayName": "Trí Võ",
      "userId": "13642267517387376756"
     },
     "user_tz": -420
    },
    "id": "cM28EvmKYFpJ",
    "papermill": {
     "duration": 0.016231,
     "end_time": "2025-07-14T21:17:50.388674",
     "exception": false,
     "start_time": "2025-07-14T21:17:50.372443",
     "status": "completed"
    },
    "tags": []
   },
   "outputs": [],
   "source": [
    "def evaluate_self(architecture='VGG', data_name='CIFAR10', exp_depths=[1], runtimes=1):\n",
    "    all_gains = []\n",
    "    cfg = Config(dataset_name=data_name, exp_depths=exp_depths, dummy=True)\n",
    "\n",
    "    print_executing_config(cfg, architecture, data_name)\n",
    "\n",
    "    for i in range(runtimes):\n",
    "        evaluate_self_run(cfg, architecture, all_gains)\n"
   ]
  },
  {
   "cell_type": "code",
   "execution_count": 14,
   "id": "1060f973",
   "metadata": {
    "execution": {
     "iopub.execute_input": "2025-07-14T21:17:50.402859Z",
     "iopub.status.busy": "2025-07-14T21:17:50.402630Z",
     "iopub.status.idle": "2025-07-14T21:17:50.405649Z",
     "shell.execute_reply": "2025-07-14T21:17:50.404933Z"
    },
    "executionInfo": {
     "elapsed": 44971,
     "status": "error",
     "timestamp": 1752470878712,
     "user": {
      "displayName": "Trí Võ",
      "userId": "13642267517387376756"
     },
     "user_tz": -420
    },
    "id": "0kwlWU4ZYfC_",
    "outputId": "d89ebdbc-3504-4bf5-d187-d7d8fc9a2544",
    "papermill": {
     "duration": 0.011614,
     "end_time": "2025-07-14T21:17:50.406773",
     "exception": false,
     "start_time": "2025-07-14T21:17:50.395159",
     "status": "completed"
    },
    "tags": []
   },
   "outputs": [],
   "source": [
    "# vgg -> pass\n",
    "# evaluate_self(architecture='vgg', data_name='cifar10', exp_depths=[1], runtimes=1)"
   ]
  },
  {
   "cell_type": "code",
   "execution_count": 15,
   "id": "24efca6b",
   "metadata": {
    "execution": {
     "iopub.execute_input": "2025-07-14T21:17:50.420880Z",
     "iopub.status.busy": "2025-07-14T21:17:50.420703Z",
     "iopub.status.idle": "2025-07-14T21:17:50.423567Z",
     "shell.execute_reply": "2025-07-14T21:17:50.422992Z"
    },
    "papermill": {
     "duration": 0.011324,
     "end_time": "2025-07-14T21:17:50.424683",
     "exception": false,
     "start_time": "2025-07-14T21:17:50.413359",
     "status": "completed"
    },
    "tags": []
   },
   "outputs": [],
   "source": [
    "# resnet -> pass\n",
    "# evaluate_self(architecture='resnet', data_name='cifar10', exp_depths=[1], runtimes=1)"
   ]
  },
  {
   "cell_type": "markdown",
   "id": "a926b65f",
   "metadata": {
    "id": "cpgz3H1LBGd9",
    "papermill": {
     "duration": 0.006614,
     "end_time": "2025-07-14T21:17:50.438158",
     "exception": false,
     "start_time": "2025-07-14T21:17:50.431544",
     "status": "completed"
    },
    "tags": []
   },
   "source": [
    "#### Evaluate non-self reflective"
   ]
  },
  {
   "cell_type": "code",
   "execution_count": 16,
   "id": "23e233f3",
   "metadata": {
    "execution": {
     "iopub.execute_input": "2025-07-14T21:17:50.452567Z",
     "iopub.status.busy": "2025-07-14T21:17:50.452357Z",
     "iopub.status.idle": "2025-07-14T21:17:50.458206Z",
     "shell.execute_reply": "2025-07-14T21:17:50.457628Z"
    },
    "executionInfo": {
     "elapsed": 32899,
     "status": "aborted",
     "timestamp": 1752468950268,
     "user": {
      "displayName": "Trí Võ",
      "userId": "13642267517387376756"
     },
     "user_tz": -420
    },
    "id": "wOoCbZ58-uFE",
    "papermill": {
     "duration": 0.01446,
     "end_time": "2025-07-14T21:17:50.459397",
     "exception": false,
     "start_time": "2025-07-14T21:17:50.444937",
     "status": "completed"
    },
    "tags": []
   },
   "outputs": [],
   "source": [
    "def evaluate_non_self_run(cfg, architecture_c0='VGG', architecture_ref='RESNET',  all_gains=[]):\n",
    "    # all_gains = []\n",
    "\n",
    "    # get dataset\n",
    "    train_dataset, val_dataset, _, norm = get_full_ds(cfg)\n",
    "\n",
    "    # train and save non-reflective model\n",
    "    model, lcfg, loaded = get_classifier(cfg, architecture_c0, train_dataset, val_dataset, None, norm=norm)\n",
    "\n",
    "    # create explainations on model\n",
    "    train_dataset, val_dataset, oX, _ = get_full_ds(cfg)\n",
    "    train_exps, test_exps = get_exps(cfg, model, train_dataset, val_dataset, norm)\n",
    "    train_exps, test_exps = select_layers(train_exps), select_layers(test_exps)\n",
    "\n",
    "    # Train new reflective model\n",
    "    train_dataset, val_dataset = gds(train_exps, cfg.train), gds(test_exps, cfg.train)\n",
    "    exp_model, ecfg = get_exp_classifier(cfg, architecture_ref, train_dataset, val_dataset, None, trained_net_self=None)\n",
    "\n",
    "    # return exp_model, all_gains, ecfg, lcfg\n",
    "\n",
    "    print('Outcomes:')\n",
    "    print('Accuracies on non-reflective Classifier:', lcfg)\n",
    "    print('Accuracies on reflective Classifier:', ecfg)\n",
    "\n",
    "    all_gains.append(ecfg['test_acc_predict'] - lcfg['test_acc'])\n",
    "\n",
    "    print('Gains of reflective Classifier if use predictions in [%] for this run:', np.round(all_gains[-1], 4)*100)\n",
    "    print('... for all runs', '#runs:', len(all_gains),\n",
    "          'Mean Gain', np.round(np.mean(np.array(all_gains)), 4)*100,\n",
    "          'Std Gain', np.round(np.std(np.array(all_gains)), 4)*100)\n",
    "    print('\\n\\n')"
   ]
  },
  {
   "cell_type": "code",
   "execution_count": 17,
   "id": "be4b6549",
   "metadata": {
    "execution": {
     "iopub.execute_input": "2025-07-14T21:17:50.474097Z",
     "iopub.status.busy": "2025-07-14T21:17:50.473886Z",
     "iopub.status.idle": "2025-07-14T21:17:50.477765Z",
     "shell.execute_reply": "2025-07-14T21:17:50.477189Z"
    },
    "executionInfo": {
     "elapsed": 32902,
     "status": "aborted",
     "timestamp": 1752468950272,
     "user": {
      "displayName": "Trí Võ",
      "userId": "13642267517387376756"
     },
     "user_tz": -420
    },
    "id": "AK1Bgnai_n71",
    "papermill": {
     "duration": 0.012393,
     "end_time": "2025-07-14T21:17:50.478885",
     "exception": false,
     "start_time": "2025-07-14T21:17:50.466492",
     "status": "completed"
    },
    "tags": []
   },
   "outputs": [],
   "source": [
    "def evaluate_non_self(architecture_c0='VGG', architecture_ref='RESNET', data_name='CIFAR10', exp_depths=[1], runtimes=1):\n",
    "    all_gains = []\n",
    "    cfg = Config(dataset_name=data_name, exp_depths=exp_depths, dummy=True)\n",
    "\n",
    "    print_executing_non_self_config(cfg, architecture_c0, architecture_ref, data_name)\n",
    "\n",
    "    for i in range(runtimes):\n",
    "        evaluate_non_self_run(cfg, architecture_c0, architecture_ref, all_gains)\n"
   ]
  },
  {
   "cell_type": "code",
   "execution_count": 18,
   "id": "1cfdbbcf",
   "metadata": {
    "execution": {
     "iopub.execute_input": "2025-07-14T21:17:50.493513Z",
     "iopub.status.busy": "2025-07-14T21:17:50.493314Z",
     "iopub.status.idle": "2025-07-14T21:17:50.496190Z",
     "shell.execute_reply": "2025-07-14T21:17:50.495547Z"
    },
    "executionInfo": {
     "elapsed": 32916,
     "status": "aborted",
     "timestamp": 1752468950286,
     "user": {
      "displayName": "Trí Võ",
      "userId": "13642267517387376756"
     },
     "user_tz": -420
    },
    "id": "7KpTaJ6NBS8d",
    "papermill": {
     "duration": 0.01147,
     "end_time": "2025-07-14T21:17:50.497333",
     "exception": false,
     "start_time": "2025-07-14T21:17:50.485863",
     "status": "completed"
    },
    "tags": []
   },
   "outputs": [],
   "source": [
    "# Còn lỗi shape khi thực hiện handle explanantion của gradcam nếu 2 kiến trúc khác nhau,\n",
    "# có thể là tại vị trí layer được chọn ở 2 kiến trúc chưa khớp kích thước filter với nhau.\n",
    "# evaluate_non_self(architecture_c0='vgg', architecture_ref='resnet', data_name='cifar10', exp_depths=[0], runtimes=1)"
   ]
  },
  {
   "cell_type": "markdown",
   "id": "fc8b08a7",
   "metadata": {
    "id": "u2eLI90nsPOO",
    "papermill": {
     "duration": 0.006636,
     "end_time": "2025-07-14T21:17:50.510826",
     "exception": false,
     "start_time": "2025-07-14T21:17:50.504190",
     "status": "completed"
    },
    "tags": []
   },
   "source": [
    "### Visualize image from dataset"
   ]
  },
  {
   "cell_type": "markdown",
   "id": "b5df6190",
   "metadata": {
    "id": "ull8Y4PvOAzh",
    "papermill": {
     "duration": 0.006883,
     "end_time": "2025-07-14T21:17:50.524450",
     "exception": false,
     "start_time": "2025-07-14T21:17:50.517567",
     "status": "completed"
    },
    "tags": []
   },
   "source": [
    "#### Functions"
   ]
  },
  {
   "cell_type": "code",
   "execution_count": 19,
   "id": "88df747f",
   "metadata": {
    "execution": {
     "iopub.execute_input": "2025-07-14T21:17:50.539057Z",
     "iopub.status.busy": "2025-07-14T21:17:50.538849Z",
     "iopub.status.idle": "2025-07-14T21:17:50.724403Z",
     "shell.execute_reply": "2025-07-14T21:17:50.723818Z"
    },
    "executionInfo": {
     "elapsed": 32922,
     "status": "aborted",
     "timestamp": 1752468950293,
     "user": {
      "displayName": "Trí Võ",
      "userId": "13642267517387376756"
     },
     "user_tz": -420
    },
    "id": "oFNt25wtoYGu",
    "papermill": {
     "duration": 0.194472,
     "end_time": "2025-07-14T21:17:50.725758",
     "exception": false,
     "start_time": "2025-07-14T21:17:50.531286",
     "status": "completed"
    },
    "tags": []
   },
   "outputs": [],
   "source": [
    "import torch\n",
    "import numpy as np\n",
    "import matplotlib.pyplot as plt\n",
    "import os\n",
    "import cv2\n",
    "\n",
    "def denormalize(image_tensor, mean, std):\n",
    "    mean = torch.tensor(mean).view(3, 1, 1)\n",
    "    std = torch.tensor(std).view(3, 1, 1)\n",
    "    return image_tensor * std + mean\n",
    "\n",
    "def overlay_heatmap_on_image(img, heatmap, alpha=0.5, colormap=cv2.COLORMAP_JET):\n",
    "    img = img.detach().cpu().numpy()\n",
    "    img = np.transpose(img, (1, 2, 0))  # [H, W, 3]\n",
    "    img = np.clip(img * 255.0, 0, 255).astype(np.uint8)\n",
    "\n",
    "    heatmap = heatmap.detach().cpu().to(torch.float32).numpy()\n",
    "    heatmap = cv2.resize(heatmap, (img.shape[1], img.shape[0]))\n",
    "    heatmap = (heatmap - heatmap.min()) / (heatmap.max() - heatmap.min() + 1e-8)\n",
    "    heatmap = np.uint8(255 * heatmap)\n",
    "    heatmap_color = cv2.applyColorMap(heatmap, colormap)\n",
    "\n",
    "    overlay = cv2.addWeighted(img, 1 - alpha, heatmap_color, alpha, 0)\n",
    "    return overlay\n",
    "\n",
    "def visualize_explanations(\n",
    "    images, heatmaps, labels, class_ids_list,\n",
    "    mean, std,\n",
    "    save=True,\n",
    "    show=True,\n",
    "    show_original=True,\n",
    "    save_path=\"./figures\",\n",
    "    index_names=None,\n",
    "):\n",
    "    if save:\n",
    "        os.makedirs(save_path, exist_ok=True)\n",
    "\n",
    "    N = len(images)\n",
    "\n",
    "    for i in range(N):\n",
    "        image = denormalize(images[i], mean, std)\n",
    "        label = int(labels[i])\n",
    "        class_ids = class_ids_list[i]\n",
    "\n",
    "        overlays = []\n",
    "        titles = []\n",
    "\n",
    "        for j in range(3):\n",
    "            class_id = class_ids[j]\n",
    "            heatmap_tensor = heatmaps[i][j]\n",
    "            heatmap = heatmap_tensor.mean(dim=0)\n",
    "\n",
    "            overlay = overlay_heatmap_on_image(image, heatmap)\n",
    "            overlays.append(overlay)\n",
    "            name = index_names[j] if index_names else f\"target{j}\"\n",
    "            titles.append(f\"Class: {class_id} ({name})\")\n",
    "\n",
    "            if save:\n",
    "                out_path = os.path.join(save_path, f\"img{i}_cls{class_id}_{name}.png\")\n",
    "                cv2.imwrite(out_path, overlay)\n",
    "\n",
    "        if show:\n",
    "            if show_original:\n",
    "                fig, axs = plt.subplots(2, 2, figsize=(8, 6))\n",
    "\n",
    "                # Position 0,0: Original image\n",
    "                axs[0, 0].imshow(np.transpose(image.cpu().numpy(), (1, 2, 0)))\n",
    "                axs[0, 0].set_title(f\"Original (GT: {label})\")\n",
    "                axs[0, 0].axis(\"off\")\n",
    "\n",
    "                # Position 0,1; 1,0; 1,1: Overlays\n",
    "                positions = [(0, 1), (1, 0), (1, 1)]\n",
    "                for j, (row, col) in enumerate(positions):\n",
    "                    axs[row, col].imshow(overlays[j][..., ::-1])  # BGR -> RGB\n",
    "                    axs[row, col].set_title(titles[j])\n",
    "                    axs[row, col].axis(\"off\")\n",
    "\n",
    "            else:\n",
    "                fig, axs = plt.subplots(1, 3, figsize=(12, 4))\n",
    "                for j in range(3):\n",
    "                    axs[j].imshow(overlays[j][..., ::-1])\n",
    "                    axs[j].set_title(titles[j])\n",
    "                    axs[j].axis(\"off\")\n",
    "\n",
    "            plt.tight_layout()\n",
    "            plt.show()\n"
   ]
  },
  {
   "cell_type": "markdown",
   "id": "3f929db4",
   "metadata": {
    "id": "txwCkUpGN-K7",
    "papermill": {
     "duration": 0.006542,
     "end_time": "2025-07-14T21:17:50.739471",
     "exception": false,
     "start_time": "2025-07-14T21:17:50.732929",
     "status": "completed"
    },
    "tags": []
   },
   "source": [
    "#### Test"
   ]
  },
  {
   "cell_type": "code",
   "execution_count": 20,
   "id": "d1fe7644",
   "metadata": {
    "execution": {
     "iopub.execute_input": "2025-07-14T21:17:50.754205Z",
     "iopub.status.busy": "2025-07-14T21:17:50.753612Z",
     "iopub.status.idle": "2025-07-14T21:17:50.838758Z",
     "shell.execute_reply": "2025-07-14T21:17:50.838120Z"
    },
    "executionInfo": {
     "elapsed": 32942,
     "status": "aborted",
     "timestamp": 1752468950316,
     "user": {
      "displayName": "Trí Võ",
      "userId": "13642267517387376756"
     },
     "user_tz": -420
    },
    "id": "_321XR1Esdw_",
    "papermill": {
     "duration": 0.093926,
     "end_time": "2025-07-14T21:17:50.839949",
     "exception": false,
     "start_time": "2025-07-14T21:17:50.746023",
     "status": "completed"
    },
    "tags": []
   },
   "outputs": [],
   "source": [
    "architecture='VGG'\n",
    "data_name='CIFAR10'\n",
    "exp_depths=[1]\n",
    "runtimes=1\n",
    "all_gains = []\n",
    "\n",
    "cfg = Config(dataset_name=data_name, exp_depths=exp_depths, dummy=True)\n"
   ]
  },
  {
   "cell_type": "code",
   "execution_count": 21,
   "id": "14527da2",
   "metadata": {
    "execution": {
     "iopub.execute_input": "2025-07-14T21:17:50.854549Z",
     "iopub.status.busy": "2025-07-14T21:17:50.854318Z",
     "iopub.status.idle": "2025-07-14T21:18:13.522227Z",
     "shell.execute_reply": "2025-07-14T21:18:13.521094Z"
    },
    "papermill": {
     "duration": 22.676703,
     "end_time": "2025-07-14T21:18:13.523793",
     "exception": false,
     "start_time": "2025-07-14T21:17:50.847090",
     "status": "completed"
    },
    "tags": []
   },
   "outputs": [
    {
     "name": "stderr",
     "output_type": "stream",
     "text": [
      "100%|██████████| 170M/170M [00:02<00:00, 79.8MB/s]\n"
     ]
    },
    {
     "name": "stdout",
     "output_type": "stream",
     "text": [
      "Train non-reflective classifier\n",
      "0 [1.29509 0.088   0.094  ]\n",
      "4 [1.6458 0.212  0.246 ]\n",
      "8 [0.97301 0.256   0.426  ]\n",
      "12 [0.37897 0.368   0.894  ]\n"
     ]
    }
   ],
   "source": [
    "# get dataset\n",
    "train_dataset, val_dataset, _, norm = get_full_ds(cfg)\n",
    "# train and save non-reflective model\n",
    "model, lcfg, loaded = get_classifier(cfg, architecture, train_dataset, val_dataset, None, norm=norm)\n"
   ]
  },
  {
   "cell_type": "code",
   "execution_count": 22,
   "id": "25ae2853",
   "metadata": {
    "execution": {
     "iopub.execute_input": "2025-07-14T21:18:13.542802Z",
     "iopub.status.busy": "2025-07-14T21:18:13.542159Z",
     "iopub.status.idle": "2025-07-14T21:18:27.846375Z",
     "shell.execute_reply": "2025-07-14T21:18:27.845455Z"
    },
    "executionInfo": {
     "elapsed": 32945,
     "status": "aborted",
     "timestamp": 1752468950322,
     "user": {
      "displayName": "Trí Võ",
      "userId": "13642267517387376756"
     },
     "user_tz": -420
    },
    "id": "TVlho3sf1_7C",
    "papermill": {
     "duration": 14.314899,
     "end_time": "2025-07-14T21:18:27.847819",
     "exception": false,
     "start_time": "2025-07-14T21:18:13.532920",
     "status": "completed"
    },
    "tags": []
   },
   "outputs": [
    {
     "name": "stdout",
     "output_type": "stream",
     "text": [
      "target_layer for gradcam: [4]\n",
      "Compute Explanations for training data\n"
     ]
    },
    {
     "name": "stderr",
     "output_type": "stream",
     "text": [
      "/usr/local/lib/python3.11/dist-packages/torch/nn/modules/module.py:1830: FutureWarning: Using a non-full backward hook when the forward contains multiple autograd Nodes is deprecated and will be removed in future versions. This hook will be missing some grad_input. Please use register_full_backward_hook to get the documented behavior.\n",
      "  self._maybe_warn_non_full_backward_hook(args, result, grad_fn)\n"
     ]
    },
    {
     "name": "stdout",
     "output_type": "stream",
     "text": [
      "Compute Explanations for validation data\n"
     ]
    }
   ],
   "source": [
    "# set dummy to False for get full ds\n",
    "# cfg = Config(dataset_name=data_name, exp_depths=exp_depths, dummy=False)\n",
    "train_dataset, val_dataset, oX, _ = get_full_ds(cfg)\n",
    "\n",
    "# create explainations on model\n",
    "train_exps, test_exps = get_exps(cfg, model, train_dataset, val_dataset, norm)\n",
    "train_exps, test_exps = select_layers(train_exps), select_layers(test_exps)\n"
   ]
  },
  {
   "cell_type": "code",
   "execution_count": 23,
   "id": "d8aba46c",
   "metadata": {
    "execution": {
     "iopub.execute_input": "2025-07-14T21:18:27.865916Z",
     "iopub.status.busy": "2025-07-14T21:18:27.865640Z",
     "iopub.status.idle": "2025-07-14T21:18:27.870427Z",
     "shell.execute_reply": "2025-07-14T21:18:27.869666Z"
    },
    "executionInfo": {
     "elapsed": 32949,
     "status": "aborted",
     "timestamp": 1752468950330,
     "user": {
      "displayName": "Trí Võ",
      "userId": "13642267517387376756"
     },
     "user_tz": -420
    },
    "id": "qzpG-6ubW8CR",
    "papermill": {
     "duration": 0.015137,
     "end_time": "2025-07-14T21:18:27.871662",
     "exception": false,
     "start_time": "2025-07-14T21:18:27.856525",
     "status": "completed"
    },
    "tags": []
   },
   "outputs": [],
   "source": [
    "# Lấy các thành phần từ test_exps sau khi select_layers\n",
    "images = torch.tensor(test_exps[0])             # [N, 3, H, W]\n",
    "labels = test_exps[1]                           # [N]\n",
    "heatmaps = torch.tensor(test_exps[2])           # [N, H, W] — ví dụ lớp Low\n",
    "class_ids = test_exps[3]                       # [N] — lớp được dùng để giải thích"
   ]
  },
  {
   "cell_type": "code",
   "execution_count": 24,
   "id": "2244a4a9",
   "metadata": {
    "execution": {
     "iopub.execute_input": "2025-07-14T21:18:27.890931Z",
     "iopub.status.busy": "2025-07-14T21:18:27.890676Z",
     "iopub.status.idle": "2025-07-14T21:18:27.893946Z",
     "shell.execute_reply": "2025-07-14T21:18:27.893292Z"
    },
    "executionInfo": {
     "elapsed": 32958,
     "status": "aborted",
     "timestamp": 1752468950339,
     "user": {
      "displayName": "Trí Võ",
      "userId": "13642267517387376756"
     },
     "user_tz": -420
    },
    "id": "T97i8u-8yzVI",
    "papermill": {
     "duration": 0.013205,
     "end_time": "2025-07-14T21:18:27.894979",
     "exception": false,
     "start_time": "2025-07-14T21:18:27.881774",
     "status": "completed"
    },
    "tags": []
   },
   "outputs": [],
   "source": [
    "# Lấy một số ảnh để visualize\n",
    "indices = [31, 32, 34]"
   ]
  },
  {
   "cell_type": "code",
   "execution_count": 25,
   "id": "72f8011d",
   "metadata": {
    "execution": {
     "iopub.execute_input": "2025-07-14T21:18:27.911856Z",
     "iopub.status.busy": "2025-07-14T21:18:27.911655Z",
     "iopub.status.idle": "2025-07-14T21:18:28.743195Z",
     "shell.execute_reply": "2025-07-14T21:18:28.742460Z"
    },
    "executionInfo": {
     "elapsed": 32958,
     "status": "aborted",
     "timestamp": 1752468950342,
     "user": {
      "displayName": "Trí Võ",
      "userId": "13642267517387376756"
     },
     "user_tz": -420
    },
    "id": "FU-Z_Z7roflA",
    "papermill": {
     "duration": 0.841303,
     "end_time": "2025-07-14T21:18:28.744468",
     "exception": false,
     "start_time": "2025-07-14T21:18:27.903165",
     "status": "completed"
    },
    "tags": []
   },
   "outputs": [
    {
     "data": {
      "image/png": "[encoded data removed]",
      "text/plain": [
       "<Figure size 800x600 with 4 Axes>"
      ]
     },
     "metadata": {},
     "output_type": "display_data"
    },
    {
     "data": {
      "image/png": "[encoded data removed]",
      "text/plain": [
       "<Figure size 800x600 with 4 Axes>"
      ]
     },
     "metadata": {},
     "output_type": "display_data"
    },
    {
     "data": {
      "image/png": "[encoded data removed]",
      "text/plain": [
       "<Figure size 800x600 with 4 Axes>"
      ]
     },
     "metadata": {},
     "output_type": "display_data"
    }
   ],
   "source": [
    "visualize_explanations(\n",
    "    images[indices],\n",
    "    heatmaps[indices],\n",
    "    labels[indices],\n",
    "    class_ids_list=class_ids[indices],\n",
    "    mean=cfg.dataset.norm_mean,\n",
    "    std=cfg.dataset.norm_std,\n",
    "    show=True,\n",
    "    save=False,\n",
    "    show_original=True,\n",
    "    index_names=[\"Correct\", \"Random\", \"Pred\"],\n",
    ")"
   ]
  },
  {
   "cell_type": "code",
   "execution_count": 26,
   "id": "e6297f02",
   "metadata": {
    "execution": {
     "iopub.execute_input": "2025-07-14T21:18:28.765407Z",
     "iopub.status.busy": "2025-07-14T21:18:28.764642Z",
     "iopub.status.idle": "2025-07-14T21:18:30.611375Z",
     "shell.execute_reply": "2025-07-14T21:18:30.610462Z"
    },
    "papermill": {
     "duration": 1.858174,
     "end_time": "2025-07-14T21:18:30.612947",
     "exception": false,
     "start_time": "2025-07-14T21:18:28.754773",
     "status": "completed"
    },
    "tags": []
   },
   "outputs": [
    {
     "name": "stdout",
     "output_type": "stream",
     "text": [
      "Train Reflective Classifier\n",
      "0 [0.09163 0.236   0.34   ]\n",
      "4 [0.43825 0.236   0.424  ]\n",
      "8 [0.39301 0.272   0.822  ]\n",
      "12 [0.10491 0.368   1.     ]\n"
     ]
    }
   ],
   "source": [
    "# Train new reflective model\n",
    "train_dataset, val_dataset = gds(train_exps, cfg.train), gds(test_exps, cfg.train)\n",
    "exp_model, ecfg = get_exp_classifier(cfg, architecture, train_dataset, val_dataset, None, trained_net_self=model)\n"
   ]
  },
  {
   "cell_type": "code",
   "execution_count": 27,
   "id": "09aa1b1d",
   "metadata": {
    "execution": {
     "iopub.execute_input": "2025-07-14T21:18:30.635100Z",
     "iopub.status.busy": "2025-07-14T21:18:30.634887Z",
     "iopub.status.idle": "2025-07-14T21:18:30.640724Z",
     "shell.execute_reply": "2025-07-14T21:18:30.639642Z"
    },
    "papermill": {
     "duration": 0.018121,
     "end_time": "2025-07-14T21:18:30.641968",
     "exception": false,
     "start_time": "2025-07-14T21:18:30.623847",
     "status": "completed"
    },
    "tags": []
   },
   "outputs": [
    {
     "name": "stdout",
     "output_type": "stream",
     "text": [
      "Outcomes:\n",
      "Accuracies on non-reflective Classifier: {'test_acc': 0.396, 'train_acc': 0.99}\n",
      "Accuracies on reflective Classifier: {'test_acc_correct': 0.52, 'test_acc_predict': 0.42, 'test_acc_random': 0.36}\n",
      "Gains of reflective Classifier if use predictions in [%] for this run: 2.4\n",
      "... for all runs #runs: 1 Mean Gain 2.4 Std Gain 0.0\n",
      "\n",
      "\n",
      "\n"
     ]
    }
   ],
   "source": [
    "print('Outcomes:')\n",
    "print('Accuracies on non-reflective Classifier:', lcfg)\n",
    "print('Accuracies on reflective Classifier:', ecfg)\n",
    "\n",
    "all_gains.append(ecfg['test_acc_predict'] - lcfg['test_acc'])\n",
    "\n",
    "print('Gains of reflective Classifier if use predictions in [%] for this run:', np.round(all_gains[-1], 4)*100)\n",
    "print('... for all runs', '#runs:', len(all_gains),\n",
    "      'Mean Gain', np.round(np.mean(np.array(all_gains)), 4)*100,\n",
    "      'Std Gain', np.round(np.std(np.array(all_gains)), 4)*100)\n",
    "print('\\n\\n')"
   ]
  }
 ],
 "metadata": {
  "accelerator": "GPU",
  "colab": {
   "authorship_tag": "ABX9TyNPwxCL/WxmnR3g76k/rDB9",
   "gpuType": "T4",
   "provenance": [],
   "toc_visible": true
  },
  "kaggle": {
   "accelerator": "nvidiaTeslaT4",
   "dataSources": [],
   "dockerImageVersionId": 31090,
   "isGpuEnabled": true,
   "isInternetEnabled": true,
   "language": "python",
   "sourceType": "notebook"
  },
  "kernelspec": {
   "display_name": "Python 3",
   "language": "python",
   "name": "python3"
  },
  "language_info": {
   "codemirror_mode": {
    "name": "ipython",
    "version": 3
   },
   "file_extension": ".py",
   "mimetype": "text/x-python",
   "name": "python",
   "nbconvert_exporter": "python",
   "pygments_lexer": "ipython3",
   "version": "3.11.13"
  },
  "papermill": {
   "default_parameters": {},
   "duration": 58.250561,
   "end_time": "2025-07-14T21:18:33.155330",
   "environment_variables": {},
   "exception": null,
   "input_path": "__notebook__.ipynb",
   "output_path": "__notebook__.ipynb",
   "parameters": {},
   "start_time": "2025-07-14T21:17:34.904769",
   "version": "2.6.0"
  }
 },
 "nbformat": 4,
 "nbformat_minor": 5
}
